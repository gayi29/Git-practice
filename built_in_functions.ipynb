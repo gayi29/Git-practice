{
 "cells": [
  {
   "cell_type": "markdown",
   "id": "f43fd475",
   "metadata": {},
   "source": [
    "# Built-in functions\n",
    "\n",
    "more info : https://www.geeksforgeeks.org/python-built-in-functions/"
   ]
  },
  {
   "cell_type": "markdown",
   "id": "2ced9c3d",
   "metadata": {},
   "source": [
    "## 1. abs() \n",
    "\n",
    "Return the absolute value of a number"
   ]
  },
  {
   "cell_type": "code",
   "execution_count": 21,
   "id": "97a0b756",
   "metadata": {},
   "outputs": [
    {
     "name": "stdout",
     "output_type": "stream",
     "text": [
      "32.453\n",
      "5.830951894845301\n"
     ]
    }
   ],
   "source": [
    "x = abs(-32.453)\n",
    "print(x)\n",
    "\n",
    "x = abs(3+5j)\n",
    "print(x)"
   ]
  },
  {
   "cell_type": "markdown",
   "id": "31ef2564",
   "metadata": {},
   "source": [
    "## 2. all() \n",
    "\n",
    "The all() function returns True if all items in an iterable are true, otherwise it returns False.\n",
    "\n",
    "If the iterable object is empty, the all() function also returns True.\n",
    "\n",
    "syntax = all(any iterable)"
   ]
  },
  {
   "cell_type": "code",
   "execution_count": 22,
   "id": "d27c929a",
   "metadata": {},
   "outputs": [
    {
     "name": "stdout",
     "output_type": "stream",
     "text": [
      "False\n"
     ]
    }
   ],
   "source": [
    "mylist = [0, 1, 1]\n",
    "x = all(mylist)\n",
    "print(x)"
   ]
  },
  {
   "cell_type": "code",
   "execution_count": 23,
   "id": "9d19deef",
   "metadata": {},
   "outputs": [
    {
     "name": "stdout",
     "output_type": "stream",
     "text": [
      "False\n"
     ]
    }
   ],
   "source": [
    "mydict = {0 : \"Apple\", 1 : \"Orange\"}\n",
    "x = all(mydict)\n",
    "print(x)"
   ]
  },
  {
   "cell_type": "code",
   "execution_count": 24,
   "id": "93b9d006",
   "metadata": {},
   "outputs": [
    {
     "name": "stdout",
     "output_type": "stream",
     "text": [
      "False\n"
     ]
    }
   ],
   "source": [
    "mytuple = (0, True, False)\n",
    "x = all(mytuple)\n",
    "print(x)"
   ]
  },
  {
   "cell_type": "code",
   "execution_count": 25,
   "id": "edf7a7e9",
   "metadata": {},
   "outputs": [
    {
     "name": "stdout",
     "output_type": "stream",
     "text": [
      "False\n"
     ]
    }
   ],
   "source": [
    "myset = {0, 1, 0}\n",
    "x = all(myset)\n",
    "print(x)"
   ]
  },
  {
   "cell_type": "markdown",
   "id": "21f66721",
   "metadata": {},
   "source": [
    "# 3. any()\n",
    "\n",
    "The any() function returns True if any item in an iterable are true, otherwise it returns False.\n",
    "\n",
    "If the iterable object is empty, the any() function will return False.\n",
    "\n",
    "syntax : any(iterable)"
   ]
  },
  {
   "cell_type": "code",
   "execution_count": 26,
   "id": "ed68edb2",
   "metadata": {},
   "outputs": [
    {
     "name": "stdout",
     "output_type": "stream",
     "text": [
      "True\n"
     ]
    }
   ],
   "source": [
    "mytuple = (0, 1, False)\n",
    "x = any(mytuple)\n",
    "print(x)"
   ]
  },
  {
   "cell_type": "code",
   "execution_count": 27,
   "id": "b634d2ee",
   "metadata": {},
   "outputs": [
    {
     "name": "stdout",
     "output_type": "stream",
     "text": [
      "True\n"
     ]
    }
   ],
   "source": [
    "myset = {0, 1, 0}\n",
    "x = any(myset)\n",
    "print(x)"
   ]
  },
  {
   "cell_type": "code",
   "execution_count": 28,
   "id": "0b0cc7ae",
   "metadata": {},
   "outputs": [
    {
     "name": "stdout",
     "output_type": "stream",
     "text": [
      "True\n"
     ]
    }
   ],
   "source": [
    "mydict = {0 : \"Apple\", 1 : \"Orange\"}\n",
    "x = any(mydict)\n",
    "print(x)"
   ]
  },
  {
   "cell_type": "markdown",
   "id": "67cae939",
   "metadata": {},
   "source": [
    "## 4. bin() \n",
    "\n",
    "The bin() function returns the binary version of a specified integer.\n",
    "\n",
    "The result will always start with the prefix 0b.\n",
    "\n",
    "Syntax : bin(n)"
   ]
  },
  {
   "cell_type": "code",
   "execution_count": 29,
   "id": "15185aa3",
   "metadata": {},
   "outputs": [
    {
     "name": "stdout",
     "output_type": "stream",
     "text": [
      "0b100100\n"
     ]
    }
   ],
   "source": [
    "x = bin(36) # returns binary version of a specified integer\n",
    "print(x)"
   ]
  },
  {
   "cell_type": "code",
   "execution_count": 30,
   "id": "b6b9c616",
   "metadata": {},
   "outputs": [
    {
     "name": "stdout",
     "output_type": "stream",
     "text": [
      "179\n"
     ]
    }
   ],
   "source": [
    "x = int(\"10110011\", 2) # THis converts binary string to decimal value\n",
    "print(x)"
   ]
  },
  {
   "cell_type": "markdown",
   "id": "e5b63dca",
   "metadata": {},
   "source": [
    "# 5. bool() \n",
    "\n",
    "The bool() function returns the boolean value of a specified object.\n",
    "Python bool() function is used to return or convert a value to a Boolean value i.e., True or False, using the standard truth testing procedure. \n",
    "\n",
    "The object will always return True, unless:\n",
    "\n",
    "The object is empty, like [], (), {}\n",
    "The object is False\n",
    "The object is 0\n",
    "The object is None\n",
    "\n",
    "Here are a few cases, in which Python’s bool() method returns false. Except these all other values return True. \n",
    "\n",
    "If a False value is passed.\n",
    "\n",
    "If None is passed.\n",
    "\n",
    "If an empty sequence is passed, such as (), [], ”, etc\n",
    "\n",
    "If Zero is passed in any numeric type, such as 0, 0.0 etc\n",
    "\n",
    "If an empty mapping is passed, such as {}.\n",
    "\n",
    "If Objects of Classes having __bool__() or __len()__ method, returning 0 or False\n",
    "\n",
    "Syntax : bool(object)"
   ]
  },
  {
   "cell_type": "code",
   "execution_count": 31,
   "id": "64b67680",
   "metadata": {},
   "outputs": [
    {
     "name": "stdout",
     "output_type": "stream",
     "text": [
      "True\n"
     ]
    }
   ],
   "source": [
    "x = bool(1)\n",
    "print(x)"
   ]
  },
  {
   "cell_type": "code",
   "execution_count": 1,
   "id": "58c39d62",
   "metadata": {},
   "outputs": [
    {
     "name": "stdout",
     "output_type": "stream",
     "text": [
      "False\n",
      "True\n",
      "False\n",
      "False\n",
      "False\n",
      "False\n",
      "False\n",
      "True\n"
     ]
    }
   ],
   "source": [
    "# Python program to illustrate\n",
    "# built-in method bool()\n",
    "\n",
    "# Returns False as x is False\n",
    "x = False\n",
    "print(bool(x))\n",
    "\n",
    "# Returns True as x is True\n",
    "x = True\n",
    "print(bool(x))\n",
    "\n",
    "# Returns False as x is not equal to y\n",
    "x = 5\n",
    "y = 10\n",
    "print(bool(x == y))\n",
    "\n",
    "# Returns False as x is None\n",
    "x = None\n",
    "print(bool(x))\n",
    "\n",
    "# Returns False as x is an empty sequence\n",
    "x = ()\n",
    "print(bool(x))\n",
    "\n",
    "# Returns False as x is an empty mapping\n",
    "x = {}\n",
    "print(bool(x))\n",
    "\n",
    "# Returns False as x is 0\n",
    "x = 0.0\n",
    "print(bool(x))\n",
    "\n",
    "# Returns True as x is a non empty string\n",
    "x = 'GeeksforGeeks'\n",
    "print(bool(x))"
   ]
  },
  {
   "cell_type": "markdown",
   "id": "f2b81b62",
   "metadata": {},
   "source": [
    "## 6. bytearray()"
   ]
  },
  {
   "cell_type": "markdown",
   "id": "077a9091",
   "metadata": {},
   "source": [
    "## 7. bytes()"
   ]
  },
  {
   "cell_type": "markdown",
   "id": "1e3cbce6",
   "metadata": {},
   "source": [
    "## 8. callable() \n",
    "\n",
    "The callable() function returns True if the specified object is callable, otherwise it returns False.\n",
    "\n",
    "syntax : callable(object)"
   ]
  },
  {
   "cell_type": "code",
   "execution_count": 33,
   "id": "649dc8a7",
   "metadata": {},
   "outputs": [
    {
     "name": "stdout",
     "output_type": "stream",
     "text": [
      "True\n"
     ]
    }
   ],
   "source": [
    "def x():\n",
    "  a = 5\n",
    "\n",
    "print(callable(x))"
   ]
  },
  {
   "cell_type": "code",
   "execution_count": 34,
   "id": "10d73373",
   "metadata": {},
   "outputs": [
    {
     "name": "stdout",
     "output_type": "stream",
     "text": [
      "False\n"
     ]
    }
   ],
   "source": [
    "x = 5\n",
    "\n",
    "print(callable(x))"
   ]
  },
  {
   "cell_type": "markdown",
   "id": "fd89e58c",
   "metadata": {},
   "source": [
    "## 9. chr()\n",
    "\n",
    "Get the character that represents the unicode 97\n",
    "The chr() function returns the character that represents the specified unicode.\n",
    "\n",
    "syntax : chr(number)"
   ]
  },
  {
   "cell_type": "code",
   "execution_count": 35,
   "id": "b519831b",
   "metadata": {},
   "outputs": [
    {
     "name": "stdout",
     "output_type": "stream",
     "text": [
      "a\n"
     ]
    }
   ],
   "source": [
    "x = chr(97)\n",
    "print(x)"
   ]
  },
  {
   "cell_type": "markdown",
   "id": "d2abea74",
   "metadata": {},
   "source": [
    "## 10. classmethod()\n",
    "\n",
    "The classmethod() is an inbuilt function in Python, which returns a class method for a given function.\n",
    "\n",
    "classmethod() methods are bound to a class rather than an object. Class methods can be called by both class and object. These methods can be called with a class or with an object. \n",
    "\n",
    "Class method vs Static Method\n",
    "\n",
    "A class method takes cls as the first parameter while a static method needs no specific parameters.\n",
    "\n",
    "A class method can access or modify the class state while a static method can’t access or modify it.\n",
    "\n",
    "In general, static methods know nothing about the class state. They are utility-type methods that take some parameters and work upon those parameters. On the other hand class methods must have class as a parameter.\n",
    "\n",
    "We use @classmethod decorator in python to create a class method and we use @staticmethod decorator to create a static method in python.\n",
    "\n",
    "Syntax: classmethod(function)"
   ]
  },
  {
   "cell_type": "markdown",
   "id": "b4b35d1f",
   "metadata": {},
   "source": [
    "for more info, use the link https://www.geeksforgeeks.org/classmethod-in-python/"
   ]
  },
  {
   "cell_type": "code",
   "execution_count": 38,
   "id": "0dcbdcb5",
   "metadata": {},
   "outputs": [
    {
     "name": "stdout",
     "output_type": "stream",
     "text": [
      "The name is :  Geeksforgeeks\n"
     ]
    }
   ],
   "source": [
    "# Python program to understand the classmethod\n",
    "\n",
    "class Student:\n",
    "\n",
    "\t# create a variable\n",
    "\tname = \"Geeksforgeeks\"\n",
    "\n",
    "\t# create a function\n",
    "\tdef print_name(obj):\n",
    "\t\tprint(\"The name is : \", obj.name)\n",
    "\n",
    "\n",
    "# create print_name classmethod\n",
    "# before creating this line print_name()\n",
    "# It can be called only with object not with class\n",
    "Student.print_name = classmethod(Student.print_name)\n",
    "\n",
    "# now this method can be called as classmethod\n",
    "# print_name() method is called a class method\n",
    "Student.print_name()"
   ]
  },
  {
   "cell_type": "code",
   "execution_count": 39,
   "id": "fc7c0d6a",
   "metadata": {},
   "outputs": [
    {
     "name": "stdout",
     "output_type": "stream",
     "text": [
      "Purchase course :  DSA\n"
     ]
    }
   ],
   "source": [
    "class geeks:\n",
    "\tcourse = 'DSA'\n",
    "\n",
    "\tdef purchase(obj):\n",
    "\t\tprint(\"Purchase course : \", obj.course)\n",
    "\n",
    "\n",
    "geeks.purchase = classmethod(geeks.purchase)\n",
    "geeks.purchase()"
   ]
  },
  {
   "cell_type": "markdown",
   "id": "caaf4d8a",
   "metadata": {},
   "source": [
    "## 11. complex()\n",
    "\n",
    "The complex() function returns a complex number by specifying a real number and an imaginary number.\n",
    "\n",
    "Syntax : complex(real, imaginary)\n",
    "\n",
    "for more info, use the link https://www.geeksforgeeks.org/python-complex-function/"
   ]
  },
  {
   "cell_type": "code",
   "execution_count": 42,
   "id": "a0549c48",
   "metadata": {},
   "outputs": [
    {
     "name": "stdout",
     "output_type": "stream",
     "text": [
      "(3+5j)\n"
     ]
    }
   ],
   "source": [
    "x = complex(3, 5)\n",
    "print(x)"
   ]
  },
  {
   "cell_type": "code",
   "execution_count": 43,
   "id": "7f0667cb",
   "metadata": {},
   "outputs": [
    {
     "name": "stdout",
     "output_type": "stream",
     "text": [
      "(3+5j)\n"
     ]
    }
   ],
   "source": [
    "x = complex('3+5j')\n",
    "print(x)"
   ]
  },
  {
   "cell_type": "code",
   "execution_count": null,
   "id": "930727e5",
   "metadata": {},
   "outputs": [],
   "source": [
    "# numeric type\n",
    "# nothing is passed\n",
    "z = complex()\n",
    "print(\"complex() with no parameters:\", z)\n",
    "\n",
    "\n",
    "# integer type\n",
    "# passing first parameter only\n",
    "complex_num1 = complex(5)\n",
    "print(\"Int: first parameter only\", complex_num1)\n",
    "\n",
    "# passing both parameters\n",
    "complex_num2 = complex(7, 2)\n",
    "print(\"Int: both parameters\", complex_num2)\n",
    "\n",
    "# float type\n",
    "# passing first parameter only\n",
    "complex_num3 = complex(3.6)\n",
    "print(\"Float: first parameter only\", complex_num3)\n",
    "\n",
    "# passing both parameters\n",
    "complex_num4 = complex(3.6, 8.1)\n",
    "print(\"Float: both parameters\", complex_num4)\n",
    "print()\n",
    "\n",
    "# type\n",
    "print(type(complex_num1))\n"
   ]
  },
  {
   "cell_type": "code",
   "execution_count": null,
   "id": "f555563c",
   "metadata": {},
   "outputs": [],
   "source": [
    "# string\n",
    "# only first parameter is to be passed\n",
    "z1 = complex(\"7\")\n",
    "print(z1)\n",
    "\n",
    "print()\n",
    "z2 = complex(\"2\", \"3\")\n",
    "\n",
    "# This will raise TypeError\"\n",
    "print(z2)"
   ]
  },
  {
   "cell_type": "markdown",
   "id": "580199b2",
   "metadata": {},
   "source": [
    "## 12. delattr()\n",
    "\n",
    "The delattr() function will delete the specified attribute from the specified object.\n",
    "\n",
    "The delattr() method is used to delete the named attribute from the object, with the prior permission of the object.\n",
    "\n",
    "syntax : delattr(object, attribute)\n",
    "\n",
    "object:  from which  the name attribute is to be removed.\n",
    "attribute:  of the attribute  which is to be removed.\n",
    "\n",
    "for more info : https://www.geeksforgeeks.org/delattr-del-python/"
   ]
  },
  {
   "cell_type": "code",
   "execution_count": 4,
   "id": "d65a49cb",
   "metadata": {},
   "outputs": [
    {
     "name": "stdout",
     "output_type": "stream",
     "text": [
      "Before deleting domain attribute from geeks object:\n",
      "geeksforgeeks.org\n"
     ]
    },
    {
     "ename": "AttributeError",
     "evalue": "domain",
     "output_type": "error",
     "traceback": [
      "\u001b[1;31m---------------------------------------------------------------------------\u001b[0m",
      "\u001b[1;31mAttributeError\u001b[0m                            Traceback (most recent call last)",
      "\u001b[1;32m~\\AppData\\Local\\Temp\\ipykernel_10328\\1095042711.py\u001b[0m in \u001b[0;36m<module>\u001b[1;34m\u001b[0m\n\u001b[0;32m      7\u001b[0m         \u001b[0mprint\u001b[0m\u001b[1;33m(\u001b[0m\u001b[1;34m\"Before deleting domain attribute from geeks object:\"\u001b[0m\u001b[1;33m)\u001b[0m\u001b[1;33m\u001b[0m\u001b[1;33m\u001b[0m\u001b[0m\n\u001b[0;32m      8\u001b[0m         \u001b[0mprint\u001b[0m\u001b[1;33m(\u001b[0m\u001b[0mgeeks\u001b[0m\u001b[1;33m.\u001b[0m\u001b[0mdomain\u001b[0m\u001b[1;33m)\u001b[0m\u001b[1;33m\u001b[0m\u001b[1;33m\u001b[0m\u001b[0m\n\u001b[1;32m----> 9\u001b[1;33m         \u001b[0mdelattr\u001b[0m\u001b[1;33m(\u001b[0m\u001b[0mgeeks\u001b[0m\u001b[1;33m,\u001b[0m \u001b[1;34m\"domain\"\u001b[0m\u001b[1;33m)\u001b[0m\u001b[1;33m\u001b[0m\u001b[1;33m\u001b[0m\u001b[0m\n\u001b[0m\u001b[0;32m     10\u001b[0m         \u001b[0mprint\u001b[0m\u001b[1;33m(\u001b[0m\u001b[1;34m\"After deleting domain attribute from geeks object:\"\u001b[0m\u001b[1;33m)\u001b[0m\u001b[1;33m\u001b[0m\u001b[1;33m\u001b[0m\u001b[0m\n\u001b[0;32m     11\u001b[0m         \u001b[1;31m# this will raise AttributeError if we try to access 'domain' attribute\u001b[0m\u001b[1;33m\u001b[0m\u001b[1;33m\u001b[0m\u001b[0m\n",
      "\u001b[1;31mAttributeError\u001b[0m: domain"
     ]
    }
   ],
   "source": [
    "class Geek:\n",
    "\tdomain = \"geeksforgeeks.org\"\n",
    "\n",
    "\n",
    "if __name__ == '__main__':\n",
    "\tgeeks = Geek()\n",
    "\tprint(\"Before deleting domain attribute from geeks object:\")\n",
    "\tprint(geeks.domain)\n",
    "\tdelattr(geeks, \"domain\")\n",
    "\tprint(\"After deleting domain attribute from geeks object:\")\n",
    "\t# this will raise AttributeError if we try to access 'domain' attribute\n",
    "\tprint(geeks.domain)"
   ]
  },
  {
   "cell_type": "markdown",
   "id": "869eea7b",
   "metadata": {},
   "source": [
    "### del operator in Python\n",
    "\n",
    "There is another operator in Python that does the similar work as the delattr() method. It is the del operator. del operator makes some variable ready for garbage collection, if there is no reference of the variable in the later part of the program control flow."
   ]
  },
  {
   "cell_type": "code",
   "execution_count": 5,
   "id": "1bf6a722",
   "metadata": {},
   "outputs": [
    {
     "name": "stdout",
     "output_type": "stream",
     "text": [
      "Before deleting domain attribute from geeks object:\n",
      "geeksforgeeks.org\n"
     ]
    },
    {
     "ename": "AttributeError",
     "evalue": "domain",
     "output_type": "error",
     "traceback": [
      "\u001b[1;31m---------------------------------------------------------------------------\u001b[0m",
      "\u001b[1;31mAttributeError\u001b[0m                            Traceback (most recent call last)",
      "\u001b[1;32m~\\AppData\\Local\\Temp\\ipykernel_10328\\1178378664.py\u001b[0m in \u001b[0;36m<module>\u001b[1;34m\u001b[0m\n\u001b[0;32m      8\u001b[0m         \u001b[0mprint\u001b[0m\u001b[1;33m(\u001b[0m\u001b[0mgeeks\u001b[0m\u001b[1;33m.\u001b[0m\u001b[0mdomain\u001b[0m\u001b[1;33m)\u001b[0m\u001b[1;33m\u001b[0m\u001b[1;33m\u001b[0m\u001b[0m\n\u001b[0;32m      9\u001b[0m         \u001b[1;31m# using del operator\u001b[0m\u001b[1;33m\u001b[0m\u001b[1;33m\u001b[0m\u001b[0m\n\u001b[1;32m---> 10\u001b[1;33m         \u001b[1;32mdel\u001b[0m \u001b[0mgeeks\u001b[0m\u001b[1;33m.\u001b[0m\u001b[0mdomain\u001b[0m\u001b[1;33m\u001b[0m\u001b[1;33m\u001b[0m\u001b[0m\n\u001b[0m\u001b[0;32m     11\u001b[0m         \u001b[0mprint\u001b[0m\u001b[1;33m(\u001b[0m\u001b[1;34m\"After deleting domain attribute from geeks object:\"\u001b[0m\u001b[1;33m)\u001b[0m\u001b[1;33m\u001b[0m\u001b[1;33m\u001b[0m\u001b[0m\n\u001b[0;32m     12\u001b[0m         \u001b[1;31m# this will raise AttributeError if we try to access 'domain' attribute\u001b[0m\u001b[1;33m\u001b[0m\u001b[1;33m\u001b[0m\u001b[0m\n",
      "\u001b[1;31mAttributeError\u001b[0m: domain"
     ]
    }
   ],
   "source": [
    "class Geek:\n",
    "\tdomain = \"geeksforgeeks.org\"\n",
    "\n",
    "\n",
    "if __name__ == '__main__':\n",
    "\tgeeks = Geek()\n",
    "\tprint(\"Before deleting domain attribute from geeks object:\")\n",
    "\tprint(geeks.domain)\n",
    "\t# using del operator\n",
    "\tdel geeks.domain\n",
    "\tprint(\"After deleting domain attribute from geeks object:\")\n",
    "\t# this will raise AttributeError if we try to access 'domain' attribute\n",
    "\tprint(geeks.domain)"
   ]
  },
  {
   "cell_type": "code",
   "execution_count": 6,
   "id": "5fb54f6a",
   "metadata": {},
   "outputs": [],
   "source": [
    "class Person:\n",
    "  name = \"John\"\n",
    "  age = 36\n",
    "  country = \"Norway\"\n",
    "\n",
    "delattr(Person, 'age')"
   ]
  },
  {
   "cell_type": "markdown",
   "id": "0525ab56",
   "metadata": {},
   "source": [
    "## 13. dict()\n",
    "\n",
    "The dict() function creates a dictionary.\n",
    "\n",
    "A dictionary is a collection which is unordered, changeable and indexed.\n",
    "\n",
    "syntax : dict(keyword arguments)"
   ]
  },
  {
   "cell_type": "code",
   "execution_count": 50,
   "id": "f4ea80c0",
   "metadata": {},
   "outputs": [
    {
     "name": "stdout",
     "output_type": "stream",
     "text": [
      "{'name': 'John', 'age': 36, 'country': 'Norway'}\n"
     ]
    }
   ],
   "source": [
    "x = dict(name = \"John\", age = 36, country = \"Norway\")\n",
    "print(x)"
   ]
  },
  {
   "cell_type": "code",
   "execution_count": 7,
   "id": "92e64def",
   "metadata": {},
   "outputs": [
    {
     "name": "stdout",
     "output_type": "stream",
     "text": [
      "After change in shallow copy, main_dict: {'a': 10, 'b': 2, 'c': 3}\n",
      "After change in deep copy, main_dict: {'a': 10, 'b': 2, 'c': 3}\n"
     ]
    }
   ],
   "source": [
    "main_dict = {'a': 1, 'b': 2, 'c': 3}\n",
    "\n",
    "# deep copy using dict\n",
    "dict_deep = dict(main_dict)\n",
    "\n",
    "# shallow copy without dict\n",
    "dict_shallow = main_dict\n",
    "\n",
    "# changing value in shallow copy will change main_dict\n",
    "dict_shallow['a'] = 10\n",
    "print(\"After change in shallow copy, main_dict:\", main_dict)\n",
    "\n",
    "# changing value in deep copy won't affect main_dict\n",
    "dict_deep['b'] = 20\n",
    "print(\"After change in deep copy, main_dict:\", main_dict)"
   ]
  },
  {
   "cell_type": "markdown",
   "id": "b94af2a0",
   "metadata": {},
   "source": [
    "## 14. dir() \n",
    "\n",
    "The dir() function returns all properties and methods of the specified object, without the values.\n",
    "\n",
    "This function will return all the properties and methods, even built-in properties which are default for all object.\n",
    "\n",
    "Returns :  \n",
    "dir() tries to return a valid list of attributes of the object it is called upon. Also, dir() function behaves rather differently with different type of objects, as it aims to produce the most relevant one, rather than the complete information. \n",
    "\n",
    "Syntax : dir(object)\n",
    "\n",
    "For Class Objects, it returns a list of names of all the valid attributes and base attributes as well. \n",
    " \n",
    "For Modules/Library objects, it tries to return a list of names of all the attributes, contained in that module. \n",
    " \n",
    "If no parameters are passed it returns a list of names in the current local scope.\n",
    "\n",
    "Applications : \n",
    "\n",
    "The dir() has it’s own set of uses. It is usually used for debugging purposes in simple day to day programs, and even in large projects taken up by a team of developers. The capability of dir() to list out all the attributes of the parameter passed, is really useful when handling a lot of classes and functions, separately. \n",
    " \n",
    "The dir() function can also list out all the available attributes for a module/list/dictionary. So, it also gives us information on the operations we can perform with the available list or module, which can be very useful when having little to no information about the module. It also helps to know new modules faster. "
   ]
  },
  {
   "cell_type": "code",
   "execution_count": 51,
   "id": "8114370a",
   "metadata": {},
   "outputs": [
    {
     "name": "stdout",
     "output_type": "stream",
     "text": [
      "['__class__', '__delattr__', '__dict__', '__dir__', '__doc__', '__eq__', '__format__', '__ge__', '__getattribute__', '__gt__', '__hash__', '__init__', '__init_subclass__', '__le__', '__lt__', '__module__', '__ne__', '__new__', '__reduce__', '__reduce_ex__', '__repr__', '__setattr__', '__sizeof__', '__str__', '__subclasshook__', '__weakref__', 'age', 'country', 'name']\n"
     ]
    }
   ],
   "source": [
    "class Person:\n",
    "  name = \"John\"\n",
    "  age = 36\n",
    "  country = \"Norway\"\n",
    "\n",
    "print(dir(Person))"
   ]
  },
  {
   "cell_type": "markdown",
   "id": "38a7e756",
   "metadata": {},
   "source": [
    "## 15. divmod() \n",
    "\n",
    "The divmod() function returns a tuple containing the quotient  and the remainder when argument1 (dividend) is divided by argument2 (divisor).\n",
    "\n",
    "syntax : divmod(dividend, divisor)"
   ]
  },
  {
   "cell_type": "code",
   "execution_count": 52,
   "id": "bd3b1f10",
   "metadata": {},
   "outputs": [
    {
     "name": "stdout",
     "output_type": "stream",
     "text": [
      "(2, 1)\n"
     ]
    }
   ],
   "source": [
    "x = divmod(5, 2)\n",
    "print(x)"
   ]
  },
  {
   "cell_type": "markdown",
   "id": "87f7fd94",
   "metadata": {},
   "source": [
    "## 16. enumerate()\n",
    "\n",
    "The enumerate() function takes a collection (e.g. a tuple) and returns it as an enumerate object.\n",
    "\n",
    "The enumerate() function adds a counter as the key of the enumerate object.\n",
    "\n",
    "syntax : enumerate(iterable, start)\n",
    "where iterable\tAn iterable object\n",
    "      start\tA Number. Defining the start number of enumerate object.Default 0"
   ]
  },
  {
   "cell_type": "code",
   "execution_count": 54,
   "id": "fc2f5409",
   "metadata": {},
   "outputs": [
    {
     "name": "stdout",
     "output_type": "stream",
     "text": [
      "[(0, 'apple'), (1, 'banana'), (2, 'cherry')]\n"
     ]
    }
   ],
   "source": [
    "x = ('apple', 'banana', 'cherry')\n",
    "y = list(enumerate(x))\n",
    "print(y)"
   ]
  },
  {
   "cell_type": "markdown",
   "id": "3da55c17",
   "metadata": {},
   "source": [
    "## 17. filter()\n",
    "\n",
    "The filter() function returns an iterator were the items are filtered through a function to test if the item is accepted or not.\n",
    "\n",
    "Syntax : filter(function, iterable)\n",
    "\n",
    "The filter() method filters the given sequence with the help of a function that tests each element in the sequence to be true or not.\n",
    "\n",
    "syntax: filter(function, sequence)\n",
    "Parameters:\n",
    "\n",
    "function: function that tests if each element of a \n",
    "sequence true or not.\n",
    "\n",
    "sequence: sequence which needs to be filtered, it can \n",
    "be sets, lists, tuples, or containers of any iterators.\n",
    "\n",
    "Returns:\n",
    "returns an iterator that is already filtered.\n",
    "\n",
    "more info : https://www.geeksforgeeks.org/filter-in-python/"
   ]
  },
  {
   "cell_type": "code",
   "execution_count": 55,
   "id": "62c19dbe",
   "metadata": {},
   "outputs": [
    {
     "name": "stdout",
     "output_type": "stream",
     "text": [
      "18\n",
      "24\n",
      "32\n"
     ]
    }
   ],
   "source": [
    "ages = [5, 12, 17, 18, 24, 32]\n",
    "\n",
    "def myFunc(x):\n",
    "  if x < 18:\n",
    "    return False\n",
    "  else:\n",
    "    return True\n",
    "\n",
    "adults = filter(myFunc, ages)\n",
    "\n",
    "for x in adults:\n",
    "  print(x)"
   ]
  },
  {
   "cell_type": "markdown",
   "id": "b8bd9f48",
   "metadata": {},
   "source": [
    "## 18. float()\n",
    "\n",
    "The float() function converts the specified value into a floating point number.\n",
    "\n",
    "syntax : float(value)\n",
    "\n",
    "Python float() function is used to return a floating-point number from a number or a string representation of a numeric value.\n",
    "\n",
    "Syntax:  float(x)\n",
    "\n",
    "Parameter x: x is optional & can be:\n",
    "\n",
    "1. any number or number in form of string, ex,: “10.5”\n",
    "\n",
    "2. inf or infinity, NaN (any cases)\n",
    "\n",
    "Return: Float Value"
   ]
  },
  {
   "cell_type": "code",
   "execution_count": 56,
   "id": "fe2dcb36",
   "metadata": {},
   "outputs": [
    {
     "name": "stdout",
     "output_type": "stream",
     "text": [
      "3.5\n"
     ]
    }
   ],
   "source": [
    "x = float(\"3.500\")\n",
    "print(x)"
   ]
  },
  {
   "cell_type": "code",
   "execution_count": 57,
   "id": "e3a3dd7e",
   "metadata": {},
   "outputs": [
    {
     "name": "stdout",
     "output_type": "stream",
     "text": [
      "3.0\n"
     ]
    }
   ],
   "source": [
    "x = float(3)\n",
    "print(x)"
   ]
  },
  {
   "cell_type": "markdown",
   "id": "eea29751",
   "metadata": {},
   "source": [
    "## 19. format()\n",
    "\n",
    "The format() function formats a specified value into a specified format.\n",
    "\n",
    "Syntax : format(value, format)\n",
    "\n",
    "value : A value of any format\n",
    "\n",
    "format: The format you want to format the value into.\n",
    "\n",
    "Legal values:\n",
    "'<' - Left aligns the result (within the available space)\n",
    "\n",
    "'>' - Right aligns the result (within the available space)\n",
    "\n",
    "'^' - Center aligns the result (within the available space)\n",
    "\n",
    "'=' - Places the sign to the left most position\n",
    "\n",
    "'+' - Use a plus sign to indicate if the result is positive or negative\n",
    "\n",
    "'-' - Use a minus sign for negative values only\n",
    "\n",
    "' ' - Use a leading space for positive numbers\n",
    "\n",
    "',' - Use a comma as a thousand separator\n",
    "\n",
    "'_' - Use a underscore as a thousand separator\n",
    "\n",
    "'b' - Binary format\n",
    "\n",
    "'c' - Converts the value into the corresponding unicode character\n",
    "\n",
    "'d' - Decimal format\n",
    "\n",
    "'e' - Scientific format, with a lower case e\n",
    "\n",
    "'E' - Scientific format, with an upper case E\n",
    "\n",
    "'f' - Fix point number format\n",
    "\n",
    "'F' - Fix point number format, upper case\n",
    "\n",
    "'g' - General format\n",
    "\n",
    "'G' - General format (using a upper case E for scientific notations)\n",
    "\n",
    "'o' - Octal format\n",
    "\n",
    "'x' - Hex format, lower case\n",
    "\n",
    "'X' - Hex format, upper case\n",
    "\n",
    "'n' - Number format\n",
    "\n",
    "'%' - Percentage format"
   ]
  },
  {
   "cell_type": "code",
   "execution_count": 58,
   "id": "d0704b49",
   "metadata": {},
   "outputs": [
    {
     "name": "stdout",
     "output_type": "stream",
     "text": [
      "50.000000%\n"
     ]
    }
   ],
   "source": [
    "x = format(0.5, '%')\n",
    "print(x)"
   ]
  },
  {
   "cell_type": "code",
   "execution_count": 59,
   "id": "fb29b2ac",
   "metadata": {},
   "outputs": [
    {
     "name": "stdout",
     "output_type": "stream",
     "text": [
      "ff\n"
     ]
    }
   ],
   "source": [
    "x = format(255, 'x')\n",
    "print(x)"
   ]
  },
  {
   "cell_type": "markdown",
   "id": "b0d71567",
   "metadata": {},
   "source": [
    "## 20. frozenset() \n",
    "\n",
    "The frozenset() function returns an unchangeable frozenset object (which is like a set object, only unchangeable).\n",
    "\n",
    "syntax : frozenset(iterable)"
   ]
  },
  {
   "cell_type": "code",
   "execution_count": 61,
   "id": "35353092",
   "metadata": {},
   "outputs": [
    {
     "name": "stdout",
     "output_type": "stream",
     "text": [
      "frozenset({'apple', 'banana', 'cherry'})\n"
     ]
    }
   ],
   "source": [
    "mylist = ['apple', 'banana', 'cherry']\n",
    "x = frozenset(mylist)\n",
    "print(x)"
   ]
  },
  {
   "cell_type": "code",
   "execution_count": 60,
   "id": "8786b1a1",
   "metadata": {},
   "outputs": [
    {
     "ename": "TypeError",
     "evalue": "'frozenset' object does not support item assignment",
     "output_type": "error",
     "traceback": [
      "\u001b[1;31m---------------------------------------------------------------------------\u001b[0m",
      "\u001b[1;31mTypeError\u001b[0m                                 Traceback (most recent call last)",
      "\u001b[1;32m~\\AppData\\Local\\Temp\\ipykernel_11988\\1184833081.py\u001b[0m in \u001b[0;36m<module>\u001b[1;34m\u001b[0m\n\u001b[0;32m      1\u001b[0m \u001b[0mmylist\u001b[0m \u001b[1;33m=\u001b[0m \u001b[1;33m[\u001b[0m\u001b[1;34m'apple'\u001b[0m\u001b[1;33m,\u001b[0m \u001b[1;34m'banana'\u001b[0m\u001b[1;33m,\u001b[0m \u001b[1;34m'cherry'\u001b[0m\u001b[1;33m]\u001b[0m\u001b[1;33m\u001b[0m\u001b[1;33m\u001b[0m\u001b[0m\n\u001b[0;32m      2\u001b[0m \u001b[0mx\u001b[0m \u001b[1;33m=\u001b[0m \u001b[0mfrozenset\u001b[0m\u001b[1;33m(\u001b[0m\u001b[0mmylist\u001b[0m\u001b[1;33m)\u001b[0m\u001b[1;33m\u001b[0m\u001b[1;33m\u001b[0m\u001b[0m\n\u001b[1;32m----> 3\u001b[1;33m \u001b[0mx\u001b[0m\u001b[1;33m[\u001b[0m\u001b[1;36m1\u001b[0m\u001b[1;33m]\u001b[0m \u001b[1;33m=\u001b[0m \u001b[1;34m\"strawberry\"\u001b[0m\u001b[1;33m\u001b[0m\u001b[1;33m\u001b[0m\u001b[0m\n\u001b[0m",
      "\u001b[1;31mTypeError\u001b[0m: 'frozenset' object does not support item assignment"
     ]
    }
   ],
   "source": [
    "mylist = ['apple', 'banana', 'cherry']\n",
    "x = frozenset(mylist)\n",
    "x[1] = \"strawberry\""
   ]
  },
  {
   "cell_type": "markdown",
   "id": "b2bcec70",
   "metadata": {},
   "source": [
    "## 21. getattr()\n",
    "\n",
    "The getattr() function returns the value of the specified attribute from the specified object.\n",
    "\n",
    "Python getattr() function is used to access the attribute value of an object and also gives an option of executing the default value in case of unavailability of the key.\n",
    "\n",
    "syntax : getattr(object, attribute, default)\n",
    "\n",
    "Parameter,   Description\n",
    "\n",
    "object :        Required. An object.\n",
    "\n",
    "attribute :     The name of the attribute you want to get the value from\n",
    "\n",
    "default\t :        Optional. The value to return if the attribute does not exist\n",
    "\n",
    "for more info : https://www.geeksforgeeks.org/python-getattr-method/"
   ]
  },
  {
   "cell_type": "code",
   "execution_count": 62,
   "id": "459e1c0c",
   "metadata": {},
   "outputs": [
    {
     "name": "stdout",
     "output_type": "stream",
     "text": [
      "36\n"
     ]
    }
   ],
   "source": [
    "class Person:\n",
    "  name = \"John\"\n",
    "  age = 36\n",
    "  country = \"Norway\"\n",
    "\n",
    "x = getattr(Person, 'age')\n",
    "print(x)"
   ]
  },
  {
   "cell_type": "code",
   "execution_count": 63,
   "id": "d1f29f38",
   "metadata": {},
   "outputs": [
    {
     "name": "stdout",
     "output_type": "stream",
     "text": [
      "my message\n"
     ]
    }
   ],
   "source": [
    "class Person:\n",
    "  name = \"John\"\n",
    "  age = 36\n",
    "  country = \"Norway\"\n",
    "\n",
    "x = getattr(Person, 'page', 'my message')\n",
    "print(x)"
   ]
  },
  {
   "cell_type": "markdown",
   "id": "e89b69fd",
   "metadata": {},
   "source": [
    "## 22. globals() \n",
    "\n",
    "The globals() function returns the global symbol table as a dictionary.\n",
    "\n",
    "A symbol table contains necessary information about the current program\n",
    "\n",
    "syntax : globals()\n",
    "\n",
    "for more info : https://www.geeksforgeeks.org/python-globals-function/"
   ]
  },
  {
   "cell_type": "code",
   "execution_count": 64,
   "id": "8bc33157",
   "metadata": {},
   "outputs": [
    {
     "name": "stdout",
     "output_type": "stream",
     "text": [
      "{'__name__': '__main__', '__doc__': 'Automatically created module for IPython interactive environment', '__package__': None, '__loader__': None, '__spec__': None, '__builtin__': <module 'builtins' (built-in)>, '__builtins__': <module 'builtins' (built-in)>, '_ih': ['', 'x = abs(-32.453)\\nprint(x)', 'x = abs(-32.453)\\nprint(x)\\n\\nx = abs(3+5j)\\nprint(x)', 'mylist = [0, 1, 1]\\nx = all(mylist)\\nprint(x)\\nmytuple = (0, True, False)\\nx = all(mytuple)\\nprint(x)\\nmyset = {0, 1, 0}\\nx = all(myset)\\nprint(x)\\nmydict = {0 : \"Apple\", 1 : \"Orange\"}\\nx = all(mydict)\\nprint(x)', 'mytuple = (0, 1, False)\\nx = any(mytuple)\\nprint(x)', 'myset = {0, 1, 0}\\nx = any(myset)\\nprint(x)', 'mydict = {0 : \"Apple\", 1 : \"Orange\"}\\nx = any(mydict)\\nprint(x)', 'mylist = [0, 1, 1]\\nx = all(mylist)\\nprint(x)', 'mydict = {0 : \"Apple\", 1 : \"Orange\"}\\nx = all(mydict)\\nprint(x)', 'mytuple = (0, True, False)\\nx = all(mytuple)\\nprint(x)', 'myset = {0, 1, 0}\\nx = all(myset)\\nprint(x)', 'x = ascii(\"My name is Ståle\")\\nprint(x)', 'x = bin(36)\\nprint(x)', 'x = int(36, 2)\\nprint(x)', 'x = int(\"36\", 2)\\nprint(x)', 'x = int(\"10110011\", 2)\\nprint(x)', 'x = int(\"10110011\", 2) # THis converts binary string to decimal value\\nprint(x)', 'x = bin(36) # returns binary version of a specified integer\\nprint(x)', 'x = int(\"10110011\", 2) # THis converts binary string to decimal value\\nprint(x)', 'x = bool(1)\\nprint(x)', 'x = bytearray(4)\\nprint(x)', 'x = abs(-32.453)\\nprint(x)\\n\\nx = abs(3+5j)\\nprint(x)', 'mylist = [0, 1, 1]\\nx = all(mylist)\\nprint(x)', 'mydict = {0 : \"Apple\", 1 : \"Orange\"}\\nx = all(mydict)\\nprint(x)', 'mytuple = (0, True, False)\\nx = all(mytuple)\\nprint(x)', 'myset = {0, 1, 0}\\nx = all(myset)\\nprint(x)', 'mytuple = (0, 1, False)\\nx = any(mytuple)\\nprint(x)', 'myset = {0, 1, 0}\\nx = any(myset)\\nprint(x)', 'mydict = {0 : \"Apple\", 1 : \"Orange\"}\\nx = any(mydict)\\nprint(x)', 'x = bin(36) # returns binary version of a specified integer\\nprint(x)', 'x = int(\"10110011\", 2) # THis converts binary string to decimal value\\nprint(x)', 'x = bool(1)\\nprint(x)', 'def x():\\n  a = 5\\n\\nprint(callable(x))', 'def x():\\n  a = 5\\n\\nprint(callable(x))', 'x = 5\\n\\nprint(callable(x))', 'x = chr(97)\\nprint(x)', '# Python program to understand the classmethod\\n\\nclass Student:\\n\\n\\t# create a variable\\n\\tname = \"Geeksforgeeks\"\\n\\n\\t# create a function\\n\\tdef print_name(obj):\\n\\t\\tprint(\"The name is : \", obj.name)\\n\\n\\n# create print_name classmethod\\n# before creating this line print_name()\\n# It can be called only with object not with class\\nStudent.print_name = classmethod(Student.print_name)\\n\\n# now this method can be called as classmethod\\n# print_name() method is called a class method\\nStudent.print_name()', 'class geeks:\\n\\tcourse = \\'DSA\\'\\n\\n\\tdef purchase(obj):\\n\\t\\tprint(\"Purchase course : \", obj.course)\\n\\n\\ngeeks.purchase = classmethod(geeks.purchase)\\ngeeks.purchase()', '# Python program to understand the classmethod\\n\\nclass Student:\\n\\n\\t# create a variable\\n\\tname = \"Geeksforgeeks\"\\n\\n\\t# create a function\\n\\tdef print_name(obj):\\n\\t\\tprint(\"The name is : \", obj.name)\\n\\n\\n# create print_name classmethod\\n# before creating this line print_name()\\n# It can be called only with object not with class\\nStudent.print_name = classmethod(Student.print_name)\\n\\n# now this method can be called as classmethod\\n# print_name() method is called a class method\\nStudent.print_name()', 'class geeks:\\n\\tcourse = \\'DSA\\'\\n\\n\\tdef purchase(obj):\\n\\t\\tprint(\"Purchase course : \", obj.course)\\n\\n\\ngeeks.purchase = classmethod(geeks.purchase)\\ngeeks.purchase()', 'x = complex(3, 5)\\nprint(x)', \"x = complex('3+5j')\\nprint(x)\", 'x = complex(3, 5)\\nprint(x)', \"x = complex('3+5j')\\nprint(x)\", 'class Person:\\n  name = \"John\"\\n  age = 36\\n  country = \"Norway\"\\n\\ndelattr(Person, \\'age\\')', 'class Person:\\n  name = \"John\"\\n  age = 36\\n  country = \"Norway\"\\n\\ndelattr(Person, \\'age\\')\\nglobals(\\'age\\')', 'class Person:\\n  name = \"John\"\\n  age = 36\\n  country = \"Norway\"\\n\\ndelattr(Person, \\'age\\')\\n\\'age\\' in globals', 'class Person:\\n  name = \"John\"\\n  age = 36\\n  country = \"Norway\"\\n\\ndelattr(Person, \\'age\\')\\n\\'age\\' in globals()', 'class Person:\\n  name = \"John\"\\n  age = 36\\n  country = \"Norway\"\\n\\ndelattr(Person, \\'age\\')\\n\\'age\\' in globals()\\n\\'age\\' in locals()', 'class Person:\\n  name = \"John\"\\n  age = 36\\n  country = \"Norway\"\\n\\ndelattr(Person, \\'age\\')', 'x = dict(name = \"John\", age = 36, country = \"Norway\")\\nprint(x)', 'class Person:\\n  name = \"John\"\\n  age = 36\\n  country = \"Norway\"\\n\\nprint(dir(Person))', 'x = divmod(5, 2)\\nprint(x)', \"x = ('apple', 'banana', 'cherry')\\ny = enumerate(x)\\nprint(y)\", \"x = ('apple', 'banana', 'cherry')\\ny = list(enumerate(x))\\nprint(y)\", 'ages = [5, 12, 17, 18, 24, 32]\\n\\ndef myFunc(x):\\n  if x < 18:\\n    return False\\n  else:\\n    return True\\n\\nadults = filter(myFunc, ages)\\n\\nfor x in adults:\\n  print(x)', 'x = float(\"3.500\")\\nprint(x)', 'x = float(3)\\nprint(x)', \"x = format(0.5, '%')\\nprint(x)\", \"x = format(255, 'x')\\nprint(x)\", 'mylist = [\\'apple\\', \\'banana\\', \\'cherry\\']\\nx = frozenset(mylist)\\nx[1] = \"strawberry\"', \"mylist = ['apple', 'banana', 'cherry']\\nx = frozenset(mylist)\\nprint(x)\", 'class Person:\\n  name = \"John\"\\n  age = 36\\n  country = \"Norway\"\\n\\nx = getattr(Person, \\'age\\')\\nprint(x)', 'class Person:\\n  name = \"John\"\\n  age = 36\\n  country = \"Norway\"\\n\\nx = getattr(Person, \\'page\\', \\'my message\\')\\nprint(x)', 'x = globals()\\nprint(x)'], '_oh': {47: False, 48: False}, '_dh': ['C:\\\\Users\\\\balaj'], 'In': ['', 'x = abs(-32.453)\\nprint(x)', 'x = abs(-32.453)\\nprint(x)\\n\\nx = abs(3+5j)\\nprint(x)', 'mylist = [0, 1, 1]\\nx = all(mylist)\\nprint(x)\\nmytuple = (0, True, False)\\nx = all(mytuple)\\nprint(x)\\nmyset = {0, 1, 0}\\nx = all(myset)\\nprint(x)\\nmydict = {0 : \"Apple\", 1 : \"Orange\"}\\nx = all(mydict)\\nprint(x)', 'mytuple = (0, 1, False)\\nx = any(mytuple)\\nprint(x)', 'myset = {0, 1, 0}\\nx = any(myset)\\nprint(x)', 'mydict = {0 : \"Apple\", 1 : \"Orange\"}\\nx = any(mydict)\\nprint(x)', 'mylist = [0, 1, 1]\\nx = all(mylist)\\nprint(x)', 'mydict = {0 : \"Apple\", 1 : \"Orange\"}\\nx = all(mydict)\\nprint(x)', 'mytuple = (0, True, False)\\nx = all(mytuple)\\nprint(x)', 'myset = {0, 1, 0}\\nx = all(myset)\\nprint(x)', 'x = ascii(\"My name is Ståle\")\\nprint(x)', 'x = bin(36)\\nprint(x)', 'x = int(36, 2)\\nprint(x)', 'x = int(\"36\", 2)\\nprint(x)', 'x = int(\"10110011\", 2)\\nprint(x)', 'x = int(\"10110011\", 2) # THis converts binary string to decimal value\\nprint(x)', 'x = bin(36) # returns binary version of a specified integer\\nprint(x)', 'x = int(\"10110011\", 2) # THis converts binary string to decimal value\\nprint(x)', 'x = bool(1)\\nprint(x)', 'x = bytearray(4)\\nprint(x)', 'x = abs(-32.453)\\nprint(x)\\n\\nx = abs(3+5j)\\nprint(x)', 'mylist = [0, 1, 1]\\nx = all(mylist)\\nprint(x)', 'mydict = {0 : \"Apple\", 1 : \"Orange\"}\\nx = all(mydict)\\nprint(x)', 'mytuple = (0, True, False)\\nx = all(mytuple)\\nprint(x)', 'myset = {0, 1, 0}\\nx = all(myset)\\nprint(x)', 'mytuple = (0, 1, False)\\nx = any(mytuple)\\nprint(x)', 'myset = {0, 1, 0}\\nx = any(myset)\\nprint(x)', 'mydict = {0 : \"Apple\", 1 : \"Orange\"}\\nx = any(mydict)\\nprint(x)', 'x = bin(36) # returns binary version of a specified integer\\nprint(x)', 'x = int(\"10110011\", 2) # THis converts binary string to decimal value\\nprint(x)', 'x = bool(1)\\nprint(x)', 'def x():\\n  a = 5\\n\\nprint(callable(x))', 'def x():\\n  a = 5\\n\\nprint(callable(x))', 'x = 5\\n\\nprint(callable(x))', 'x = chr(97)\\nprint(x)', '# Python program to understand the classmethod\\n\\nclass Student:\\n\\n\\t# create a variable\\n\\tname = \"Geeksforgeeks\"\\n\\n\\t# create a function\\n\\tdef print_name(obj):\\n\\t\\tprint(\"The name is : \", obj.name)\\n\\n\\n# create print_name classmethod\\n# before creating this line print_name()\\n# It can be called only with object not with class\\nStudent.print_name = classmethod(Student.print_name)\\n\\n# now this method can be called as classmethod\\n# print_name() method is called a class method\\nStudent.print_name()', 'class geeks:\\n\\tcourse = \\'DSA\\'\\n\\n\\tdef purchase(obj):\\n\\t\\tprint(\"Purchase course : \", obj.course)\\n\\n\\ngeeks.purchase = classmethod(geeks.purchase)\\ngeeks.purchase()', '# Python program to understand the classmethod\\n\\nclass Student:\\n\\n\\t# create a variable\\n\\tname = \"Geeksforgeeks\"\\n\\n\\t# create a function\\n\\tdef print_name(obj):\\n\\t\\tprint(\"The name is : \", obj.name)\\n\\n\\n# create print_name classmethod\\n# before creating this line print_name()\\n# It can be called only with object not with class\\nStudent.print_name = classmethod(Student.print_name)\\n\\n# now this method can be called as classmethod\\n# print_name() method is called a class method\\nStudent.print_name()', 'class geeks:\\n\\tcourse = \\'DSA\\'\\n\\n\\tdef purchase(obj):\\n\\t\\tprint(\"Purchase course : \", obj.course)\\n\\n\\ngeeks.purchase = classmethod(geeks.purchase)\\ngeeks.purchase()', 'x = complex(3, 5)\\nprint(x)', \"x = complex('3+5j')\\nprint(x)\", 'x = complex(3, 5)\\nprint(x)', \"x = complex('3+5j')\\nprint(x)\", 'class Person:\\n  name = \"John\"\\n  age = 36\\n  country = \"Norway\"\\n\\ndelattr(Person, \\'age\\')', 'class Person:\\n  name = \"John\"\\n  age = 36\\n  country = \"Norway\"\\n\\ndelattr(Person, \\'age\\')\\nglobals(\\'age\\')', 'class Person:\\n  name = \"John\"\\n  age = 36\\n  country = \"Norway\"\\n\\ndelattr(Person, \\'age\\')\\n\\'age\\' in globals', 'class Person:\\n  name = \"John\"\\n  age = 36\\n  country = \"Norway\"\\n\\ndelattr(Person, \\'age\\')\\n\\'age\\' in globals()', 'class Person:\\n  name = \"John\"\\n  age = 36\\n  country = \"Norway\"\\n\\ndelattr(Person, \\'age\\')\\n\\'age\\' in globals()\\n\\'age\\' in locals()', 'class Person:\\n  name = \"John\"\\n  age = 36\\n  country = \"Norway\"\\n\\ndelattr(Person, \\'age\\')', 'x = dict(name = \"John\", age = 36, country = \"Norway\")\\nprint(x)', 'class Person:\\n  name = \"John\"\\n  age = 36\\n  country = \"Norway\"\\n\\nprint(dir(Person))', 'x = divmod(5, 2)\\nprint(x)', \"x = ('apple', 'banana', 'cherry')\\ny = enumerate(x)\\nprint(y)\", \"x = ('apple', 'banana', 'cherry')\\ny = list(enumerate(x))\\nprint(y)\", 'ages = [5, 12, 17, 18, 24, 32]\\n\\ndef myFunc(x):\\n  if x < 18:\\n    return False\\n  else:\\n    return True\\n\\nadults = filter(myFunc, ages)\\n\\nfor x in adults:\\n  print(x)', 'x = float(\"3.500\")\\nprint(x)', 'x = float(3)\\nprint(x)', \"x = format(0.5, '%')\\nprint(x)\", \"x = format(255, 'x')\\nprint(x)\", 'mylist = [\\'apple\\', \\'banana\\', \\'cherry\\']\\nx = frozenset(mylist)\\nx[1] = \"strawberry\"', \"mylist = ['apple', 'banana', 'cherry']\\nx = frozenset(mylist)\\nprint(x)\", 'class Person:\\n  name = \"John\"\\n  age = 36\\n  country = \"Norway\"\\n\\nx = getattr(Person, \\'age\\')\\nprint(x)', 'class Person:\\n  name = \"John\"\\n  age = 36\\n  country = \"Norway\"\\n\\nx = getattr(Person, \\'page\\', \\'my message\\')\\nprint(x)', 'x = globals()\\nprint(x)'], 'Out': {47: False, 48: False}, 'get_ipython': <bound method InteractiveShell.get_ipython of <ipykernel.zmqshell.ZMQInteractiveShell object at 0x0000023D0CD5E2B0>>, 'exit': <IPython.core.autocall.ZMQExitAutocall object at 0x0000023D0CD5EFA0>, 'quit': <IPython.core.autocall.ZMQExitAutocall object at 0x0000023D0CD5EFA0>, '_': False, '__': False, '___': '', '_i': 'class Person:\\n  name = \"John\"\\n  age = 36\\n  country = \"Norway\"\\n\\nx = getattr(Person, \\'page\\', \\'my message\\')\\nprint(x)', '_ii': 'class Person:\\n  name = \"John\"\\n  age = 36\\n  country = \"Norway\"\\n\\nx = getattr(Person, \\'age\\')\\nprint(x)', '_iii': \"mylist = ['apple', 'banana', 'cherry']\\nx = frozenset(mylist)\\nprint(x)\", '_i1': 'x = abs(-32.453)\\nprint(x)', 'x': {...}, '_i2': 'x = abs(-32.453)\\nprint(x)\\n\\nx = abs(3+5j)\\nprint(x)', '_i3': 'mylist = [0, 1, 1]\\nx = all(mylist)\\nprint(x)\\nmytuple = (0, True, False)\\nx = all(mytuple)\\nprint(x)\\nmyset = {0, 1, 0}\\nx = all(myset)\\nprint(x)\\nmydict = {0 : \"Apple\", 1 : \"Orange\"}\\nx = all(mydict)\\nprint(x)', 'mylist': ['apple', 'banana', 'cherry'], 'mytuple': (0, 1, False), 'myset': {0, 1}, 'mydict': {0: 'Apple', 1: 'Orange'}, '_i4': 'mytuple = (0, 1, False)\\nx = any(mytuple)\\nprint(x)', '_i5': 'myset = {0, 1, 0}\\nx = any(myset)\\nprint(x)', '_i6': 'mydict = {0 : \"Apple\", 1 : \"Orange\"}\\nx = any(mydict)\\nprint(x)', '_i7': 'mylist = [0, 1, 1]\\nx = all(mylist)\\nprint(x)', '_i8': 'mydict = {0 : \"Apple\", 1 : \"Orange\"}\\nx = all(mydict)\\nprint(x)', '_i9': 'mytuple = (0, True, False)\\nx = all(mytuple)\\nprint(x)', '_i10': 'myset = {0, 1, 0}\\nx = all(myset)\\nprint(x)', '_i11': 'x = ascii(\"My name is Ståle\")\\nprint(x)', '_i12': 'x = bin(36)\\nprint(x)', '_i13': 'x = int(36, 2)\\nprint(x)', '_i14': 'x = int(\"36\", 2)\\nprint(x)', '_i15': 'x = int(\"10110011\", 2)\\nprint(x)', '_i16': 'x = int(\"10110011\", 2) # THis converts binary string to decimal value\\nprint(x)', '_i17': 'x = bin(36) # returns binary version of a specified integer\\nprint(x)', '_i18': 'x = int(\"10110011\", 2) # THis converts binary string to decimal value\\nprint(x)', '_i19': 'x = bool(1)\\nprint(x)', '_i20': 'x = bytearray(4)\\nprint(x)', '_i21': 'x = abs(-32.453)\\nprint(x)\\n\\nx = abs(3+5j)\\nprint(x)', '_i22': 'mylist = [0, 1, 1]\\nx = all(mylist)\\nprint(x)', '_i23': 'mydict = {0 : \"Apple\", 1 : \"Orange\"}\\nx = all(mydict)\\nprint(x)', '_i24': 'mytuple = (0, True, False)\\nx = all(mytuple)\\nprint(x)', '_i25': 'myset = {0, 1, 0}\\nx = all(myset)\\nprint(x)', '_i26': 'mytuple = (0, 1, False)\\nx = any(mytuple)\\nprint(x)', '_i27': 'myset = {0, 1, 0}\\nx = any(myset)\\nprint(x)', '_i28': 'mydict = {0 : \"Apple\", 1 : \"Orange\"}\\nx = any(mydict)\\nprint(x)', '_i29': 'x = bin(36) # returns binary version of a specified integer\\nprint(x)', '_i30': 'x = int(\"10110011\", 2) # THis converts binary string to decimal value\\nprint(x)', '_i31': 'x = bool(1)\\nprint(x)', '_i32': 'def x():\\n  a = 5\\n\\nprint(callable(x))', '_i33': 'def x():\\n  a = 5\\n\\nprint(callable(x))', '_i34': 'x = 5\\n\\nprint(callable(x))', '_i35': 'x = chr(97)\\nprint(x)', '_i36': '# Python program to understand the classmethod\\n\\nclass Student:\\n\\n\\t# create a variable\\n\\tname = \"Geeksforgeeks\"\\n\\n\\t# create a function\\n\\tdef print_name(obj):\\n\\t\\tprint(\"The name is : \", obj.name)\\n\\n\\n# create print_name classmethod\\n# before creating this line print_name()\\n# It can be called only with object not with class\\nStudent.print_name = classmethod(Student.print_name)\\n\\n# now this method can be called as classmethod\\n# print_name() method is called a class method\\nStudent.print_name()', 'Student': <class '__main__.Student'>, '_i37': 'class geeks:\\n\\tcourse = \\'DSA\\'\\n\\n\\tdef purchase(obj):\\n\\t\\tprint(\"Purchase course : \", obj.course)\\n\\n\\ngeeks.purchase = classmethod(geeks.purchase)\\ngeeks.purchase()', 'geeks': <class '__main__.geeks'>, '_i38': '# Python program to understand the classmethod\\n\\nclass Student:\\n\\n\\t# create a variable\\n\\tname = \"Geeksforgeeks\"\\n\\n\\t# create a function\\n\\tdef print_name(obj):\\n\\t\\tprint(\"The name is : \", obj.name)\\n\\n\\n# create print_name classmethod\\n# before creating this line print_name()\\n# It can be called only with object not with class\\nStudent.print_name = classmethod(Student.print_name)\\n\\n# now this method can be called as classmethod\\n# print_name() method is called a class method\\nStudent.print_name()', '_i39': 'class geeks:\\n\\tcourse = \\'DSA\\'\\n\\n\\tdef purchase(obj):\\n\\t\\tprint(\"Purchase course : \", obj.course)\\n\\n\\ngeeks.purchase = classmethod(geeks.purchase)\\ngeeks.purchase()', '_i40': 'x = complex(3, 5)\\nprint(x)', '_i41': \"x = complex('3+5j')\\nprint(x)\", '_i42': 'x = complex(3, 5)\\nprint(x)', '_i43': \"x = complex('3+5j')\\nprint(x)\", '_i44': 'class Person:\\n  name = \"John\"\\n  age = 36\\n  country = \"Norway\"\\n\\ndelattr(Person, \\'age\\')', 'Person': <class '__main__.Person'>, '_i45': 'class Person:\\n  name = \"John\"\\n  age = 36\\n  country = \"Norway\"\\n\\ndelattr(Person, \\'age\\')\\nglobals(\\'age\\')', '_i46': 'class Person:\\n  name = \"John\"\\n  age = 36\\n  country = \"Norway\"\\n\\ndelattr(Person, \\'age\\')\\n\\'age\\' in globals', '_i47': 'class Person:\\n  name = \"John\"\\n  age = 36\\n  country = \"Norway\"\\n\\ndelattr(Person, \\'age\\')\\n\\'age\\' in globals()', '_47': False, '_i48': 'class Person:\\n  name = \"John\"\\n  age = 36\\n  country = \"Norway\"\\n\\ndelattr(Person, \\'age\\')\\n\\'age\\' in globals()\\n\\'age\\' in locals()', '_48': False, '_i49': 'class Person:\\n  name = \"John\"\\n  age = 36\\n  country = \"Norway\"\\n\\ndelattr(Person, \\'age\\')', '_i50': 'x = dict(name = \"John\", age = 36, country = \"Norway\")\\nprint(x)', '_i51': 'class Person:\\n  name = \"John\"\\n  age = 36\\n  country = \"Norway\"\\n\\nprint(dir(Person))', '_i52': 'x = divmod(5, 2)\\nprint(x)', '_i53': \"x = ('apple', 'banana', 'cherry')\\ny = enumerate(x)\\nprint(y)\", 'y': [(0, 'apple'), (1, 'banana'), (2, 'cherry')], '_i54': \"x = ('apple', 'banana', 'cherry')\\ny = list(enumerate(x))\\nprint(y)\", '_i55': 'ages = [5, 12, 17, 18, 24, 32]\\n\\ndef myFunc(x):\\n  if x < 18:\\n    return False\\n  else:\\n    return True\\n\\nadults = filter(myFunc, ages)\\n\\nfor x in adults:\\n  print(x)', 'ages': [5, 12, 17, 18, 24, 32], 'myFunc': <function myFunc at 0x0000023D0CE91700>, 'adults': <filter object at 0x0000023D0CE9A640>, '_i56': 'x = float(\"3.500\")\\nprint(x)', '_i57': 'x = float(3)\\nprint(x)', '_i58': \"x = format(0.5, '%')\\nprint(x)\", '_i59': \"x = format(255, 'x')\\nprint(x)\", '_i60': 'mylist = [\\'apple\\', \\'banana\\', \\'cherry\\']\\nx = frozenset(mylist)\\nx[1] = \"strawberry\"', '_i61': \"mylist = ['apple', 'banana', 'cherry']\\nx = frozenset(mylist)\\nprint(x)\", '_i62': 'class Person:\\n  name = \"John\"\\n  age = 36\\n  country = \"Norway\"\\n\\nx = getattr(Person, \\'age\\')\\nprint(x)', '_i63': 'class Person:\\n  name = \"John\"\\n  age = 36\\n  country = \"Norway\"\\n\\nx = getattr(Person, \\'page\\', \\'my message\\')\\nprint(x)', '_i64': 'x = globals()\\nprint(x)'}\n"
     ]
    }
   ],
   "source": [
    "x = globals()\n",
    "print(x)"
   ]
  },
  {
   "cell_type": "code",
   "execution_count": 65,
   "id": "919b52df",
   "metadata": {},
   "outputs": [
    {
     "ename": "KeyError",
     "evalue": "'__file__'",
     "output_type": "error",
     "traceback": [
      "\u001b[1;31m---------------------------------------------------------------------------\u001b[0m",
      "\u001b[1;31mKeyError\u001b[0m                                  Traceback (most recent call last)",
      "\u001b[1;32m~\\AppData\\Local\\Temp\\ipykernel_11988\\2462041499.py\u001b[0m in \u001b[0;36m<module>\u001b[1;34m\u001b[0m\n\u001b[0;32m      1\u001b[0m \u001b[0mx\u001b[0m \u001b[1;33m=\u001b[0m \u001b[0mglobals\u001b[0m\u001b[1;33m(\u001b[0m\u001b[1;33m)\u001b[0m\u001b[1;33m\u001b[0m\u001b[1;33m\u001b[0m\u001b[0m\n\u001b[1;32m----> 2\u001b[1;33m \u001b[0mprint\u001b[0m\u001b[1;33m(\u001b[0m\u001b[0mx\u001b[0m\u001b[1;33m[\u001b[0m\u001b[1;34m\"__file__\"\u001b[0m\u001b[1;33m]\u001b[0m\u001b[1;33m)\u001b[0m\u001b[1;33m\u001b[0m\u001b[1;33m\u001b[0m\u001b[0m\n\u001b[0m",
      "\u001b[1;31mKeyError\u001b[0m: '__file__'"
     ]
    }
   ],
   "source": [
    "x = globals()\n",
    "print(x[\"__file__\"])"
   ]
  },
  {
   "cell_type": "markdown",
   "id": "03767c08",
   "metadata": {},
   "source": [
    "## 23. hasattr()\n",
    "\n",
    "The hasattr() function returns True if the specified object has the specified attribute, otherwise False.\n",
    "\n",
    "Syntax : hasattr(object, attribute)\n",
    "\n",
    "\n",
    "Parameter\tDescription\n",
    "\n",
    "object\t     :Required. An object.\n",
    "\n",
    "attribute\t :The name of the attribute you want to check if exists"
   ]
  },
  {
   "cell_type": "code",
   "execution_count": 66,
   "id": "e7e2a25a",
   "metadata": {},
   "outputs": [
    {
     "name": "stdout",
     "output_type": "stream",
     "text": [
      "True\n"
     ]
    }
   ],
   "source": [
    "class Person:\n",
    "  name = \"John\"\n",
    "  age = 36\n",
    "  country = \"Norway\"\n",
    "\n",
    "x = hasattr(Person, 'age')\n",
    "print(x)"
   ]
  },
  {
   "cell_type": "markdown",
   "id": "34c3e41c",
   "metadata": {},
   "source": [
    "## 24. hash()\n",
    "\n",
    "Python hash() function is a built-in function and returns the hash value of an object if it has one. The hash value is an integer which is used to quickly compare dictionary keys while looking at a dictionary.\n",
    "\n",
    "Syntax : hash(obj)\n",
    "\n",
    "Properties of hash() function\n",
    "1. Objects hashed using hash() are irreversible, leading to loss of information.\n",
    "\n",
    "2. hash() returns hashed value only for immutable objects, hence can be used as an indicator to check for mutable/immutable objects."
   ]
  },
  {
   "cell_type": "code",
   "execution_count": 67,
   "id": "14f2f62a",
   "metadata": {},
   "outputs": [
    {
     "name": "stdout",
     "output_type": "stream",
     "text": [
      "The integer hash value is : 4\n",
      "The string hash value is : -4558148123390644551\n",
      "The float hash value is : 1291272085159665688\n"
     ]
    }
   ],
   "source": [
    "# Python 3 code to demonstrate\n",
    "# working of hash()\n",
    "\n",
    "# initializing objects\n",
    "int_val = 4\n",
    "str_val = 'GeeksforGeeks'\n",
    "flt_val = 24.56\n",
    "\n",
    "# Printing the hash values.\n",
    "# Notice Integer value doesn't change\n",
    "# You'll have answer later in article.\n",
    "print(\"The integer hash value is : \" + str(hash(int_val)))\n",
    "print(\"The string hash value is : \" + str(hash(str_val)))\n",
    "print(\"The float hash value is : \" + str(hash(flt_val)))"
   ]
  },
  {
   "cell_type": "code",
   "execution_count": 69,
   "id": "8ad9c50e",
   "metadata": {},
   "outputs": [
    {
     "name": "stdout",
     "output_type": "stream",
     "text": [
      "The tuple hash value is : -5659871693760987716\n"
     ]
    },
    {
     "ename": "TypeError",
     "evalue": "unhashable type: 'list'",
     "output_type": "error",
     "traceback": [
      "\u001b[1;31m---------------------------------------------------------------------------\u001b[0m",
      "\u001b[1;31mTypeError\u001b[0m                                 Traceback (most recent call last)",
      "\u001b[1;32m~\\AppData\\Local\\Temp\\ipykernel_11988\\672245701.py\u001b[0m in \u001b[0;36m<module>\u001b[1;34m\u001b[0m\n\u001b[0;32m     13\u001b[0m \u001b[1;31m# to convert mutable object\u001b[0m\u001b[1;33m\u001b[0m\u001b[1;33m\u001b[0m\u001b[0m\n\u001b[0;32m     14\u001b[0m \u001b[0mprint\u001b[0m\u001b[1;33m(\u001b[0m\u001b[1;34m\"The tuple hash value is : \"\u001b[0m \u001b[1;33m+\u001b[0m \u001b[0mstr\u001b[0m\u001b[1;33m(\u001b[0m\u001b[0mhash\u001b[0m\u001b[1;33m(\u001b[0m\u001b[0mtuple_val\u001b[0m\u001b[1;33m)\u001b[0m\u001b[1;33m)\u001b[0m\u001b[1;33m)\u001b[0m\u001b[1;33m\u001b[0m\u001b[1;33m\u001b[0m\u001b[0m\n\u001b[1;32m---> 15\u001b[1;33m \u001b[0mprint\u001b[0m\u001b[1;33m(\u001b[0m\u001b[1;34m\"The list hash value is : \"\u001b[0m \u001b[1;33m+\u001b[0m \u001b[0mstr\u001b[0m\u001b[1;33m(\u001b[0m\u001b[0mhash\u001b[0m\u001b[1;33m(\u001b[0m\u001b[0mlist_val\u001b[0m\u001b[1;33m)\u001b[0m\u001b[1;33m)\u001b[0m\u001b[1;33m)\u001b[0m\u001b[1;33m\u001b[0m\u001b[1;33m\u001b[0m\u001b[0m\n\u001b[0m",
      "\u001b[1;31mTypeError\u001b[0m: unhashable type: 'list'"
     ]
    }
   ],
   "source": [
    "# Python 3 code to demonstrate\n",
    "# property of hash()\n",
    "\n",
    "# initializing objects\n",
    "# tuple are immutable\n",
    "tuple_val = (1, 2, 3, 4, 5)\n",
    "\n",
    "# list are mutable\n",
    "list_val = [1, 2, 3, 4, 5]\n",
    "\n",
    "# Printing the hash values.\n",
    "# Notice exception when trying\n",
    "# to convert mutable object\n",
    "print(\"The tuple hash value is : \" + str(hash(tuple_val)))\n",
    "print(\"The list hash value is : \" + str(hash(list_val)))"
   ]
  },
  {
   "cell_type": "code",
   "execution_count": 70,
   "id": "dc643e89",
   "metadata": {},
   "outputs": [
    {
     "name": "stdout",
     "output_type": "stream",
     "text": [
      "7624043218664015231\n"
     ]
    }
   ],
   "source": [
    "# hash() for immutable tuple object\n",
    "var = ('G','E','E','K')\n",
    "\n",
    "print(hash(var))"
   ]
  },
  {
   "cell_type": "code",
   "execution_count": 71,
   "id": "094b3933",
   "metadata": {},
   "outputs": [
    {
     "ename": "TypeError",
     "evalue": "unhashable type: 'list'",
     "output_type": "error",
     "traceback": [
      "\u001b[1;31m---------------------------------------------------------------------------\u001b[0m",
      "\u001b[1;31mTypeError\u001b[0m                                 Traceback (most recent call last)",
      "\u001b[1;32m~\\AppData\\Local\\Temp\\ipykernel_11988\\580909578.py\u001b[0m in \u001b[0;36m<module>\u001b[1;34m\u001b[0m\n\u001b[0;32m      1\u001b[0m \u001b[0ml\u001b[0m \u001b[1;33m=\u001b[0m \u001b[1;33m[\u001b[0m\u001b[1;36m1\u001b[0m\u001b[1;33m,\u001b[0m \u001b[1;36m2\u001b[0m\u001b[1;33m,\u001b[0m \u001b[1;36m3\u001b[0m\u001b[1;33m,\u001b[0m \u001b[1;36m4\u001b[0m\u001b[1;33m]\u001b[0m\u001b[1;33m\u001b[0m\u001b[1;33m\u001b[0m\u001b[0m\n\u001b[1;32m----> 2\u001b[1;33m \u001b[0mprint\u001b[0m\u001b[1;33m(\u001b[0m\u001b[0mhash\u001b[0m\u001b[1;33m(\u001b[0m\u001b[0ml\u001b[0m\u001b[1;33m)\u001b[0m\u001b[1;33m)\u001b[0m\u001b[1;33m\u001b[0m\u001b[1;33m\u001b[0m\u001b[0m\n\u001b[0m",
      "\u001b[1;31mTypeError\u001b[0m: unhashable type: 'list'"
     ]
    }
   ],
   "source": [
    "l = [1, 2, 3, 4]\n",
    "print(hash(l))"
   ]
  },
  {
   "cell_type": "markdown",
   "id": "c8aa4551",
   "metadata": {},
   "source": [
    "## 25. help()\n",
    "\n",
    "The Python help function is used to display the documentation of modules, functions, classes, keywords, etc. \n",
    "\n",
    "syntax : help([object])"
   ]
  },
  {
   "cell_type": "code",
   "execution_count": null,
   "id": "dd2d1b6e",
   "metadata": {},
   "outputs": [],
   "source": [
    "help(print)"
   ]
  },
  {
   "cell_type": "markdown",
   "id": "36f79d78",
   "metadata": {},
   "source": [
    "## 26. hex()\n",
    "\n",
    "The hex() function converts the specified number into a hexadecimal value.\n",
    "\n",
    "The returned string always starts with the prefix 0x.\n",
    "\n",
    "Syntax : hex(number)\n",
    "\n",
    "https://www.geeksforgeeks.org/python-hex-function/"
   ]
  },
  {
   "cell_type": "code",
   "execution_count": 73,
   "id": "c1b56e98",
   "metadata": {},
   "outputs": [
    {
     "name": "stdout",
     "output_type": "stream",
     "text": [
      "0xff\n"
     ]
    }
   ],
   "source": [
    "x = hex(255)\n",
    "print(x)"
   ]
  },
  {
   "cell_type": "markdown",
   "id": "3716985b",
   "metadata": {},
   "source": [
    "## 27. id()\n",
    "\n",
    "The id() function returns a unique id for the specified object.\n",
    "\n",
    "All objects in Python has its own unique id.\n",
    "\n",
    "The id is assigned to the object when it is created.\n",
    "\n",
    "The id is the object's memory address, and will be different for each time you run the program. (except for some object that has a constant unique id, like integers from -5 to 256)\n",
    "\n",
    "As we can see the function accepts a single parameter and is used to return the identity of an object. This identity has to be unique and constant for this object during the lifetime. Two objects with non-overlapping lifetimes may have the same id() value. If we relate this to C, then they are actually the memory address, here in Python it is the unique id. This function is generally used internally in Python.\n",
    "\n",
    "syntax : id(object)\n",
    "\n",
    "https://www.geeksforgeeks.org/id-function-python/"
   ]
  },
  {
   "cell_type": "code",
   "execution_count": 74,
   "id": "cfad87d0",
   "metadata": {},
   "outputs": [
    {
     "name": "stdout",
     "output_type": "stream",
     "text": [
      "2461227512576\n"
     ]
    }
   ],
   "source": [
    "x = ('apple', 'banana', 'cherry')\n",
    "y = id(x)\n",
    "print(y)"
   ]
  },
  {
   "cell_type": "markdown",
   "id": "a1e42336",
   "metadata": {},
   "source": [
    "## 28. input()\n",
    "\n",
    "The input() function allows user input.\n",
    "\n",
    "Syntax : input(prompt)"
   ]
  },
  {
   "cell_type": "code",
   "execution_count": 75,
   "id": "f6eced67",
   "metadata": {},
   "outputs": [
    {
     "name": "stdout",
     "output_type": "stream",
     "text": [
      "Enter your name:\n",
      "hello\n",
      "Hello, hello\n"
     ]
    }
   ],
   "source": [
    "print('Enter your name:')\n",
    "x = input()\n",
    "print('Hello, ' + x)"
   ]
  },
  {
   "cell_type": "markdown",
   "id": "ddca17d8",
   "metadata": {},
   "source": [
    "## 29. int()\n",
    "\n",
    "The int() function converts the specified value into an integer number.\n",
    "Python int() function returns an integer from a given object or converts a number in a given base to a decimal.\n",
    "\n",
    "Syntax: int(x, base)\n",
    "\n",
    "x [optional]: string representation of integer value, defaults to 0, if no value provided.\n",
    "\n",
    "base [optional]: (integer value) base of the number.\n",
    "\n",
    "Returns: Return decimal (base-10) representation of x"
   ]
  },
  {
   "cell_type": "code",
   "execution_count": 76,
   "id": "0f807544",
   "metadata": {},
   "outputs": [
    {
     "name": "stdout",
     "output_type": "stream",
     "text": [
      "3\n",
      "12\n"
     ]
    }
   ],
   "source": [
    "x = int(3.5)\n",
    "print(x)\n",
    "x = int(\"12\")\n",
    "print(x)"
   ]
  },
  {
   "cell_type": "code",
   "execution_count": null,
   "id": "f2559adb",
   "metadata": {},
   "outputs": [],
   "source": [
    "# octal to decimal using int()\n",
    "print(\"int() on 0o12 =\", int('0o12', 8))\n",
    "\n",
    "# binary to decimal using int()\n",
    "print(\"int() on 0b110 =\", int('0b110', 2))\n",
    "\n",
    "# hexa-decimal to decimal using int()\n",
    "print(\"int() on 0x1A =\", int('0x1A', 16))"
   ]
  },
  {
   "cell_type": "markdown",
   "id": "376b3a48",
   "metadata": {},
   "source": [
    "## 30. isinstance()\n",
    "\n",
    "The isinstance() function returns True if the specified object is of the specified type, otherwise False.\n",
    "\n",
    "If the type parameter is a tuple, this function will return True if the object is one of the types in the tuple.\n",
    "\n",
    "syntax : isinstance(object, type)\n",
    "\n",
    "Parameter\tDescription\n",
    "\n",
    "object\t: Required. An object.\n",
    "\n",
    "type\t: A type or a class, or a tuple of types and/or classes\n",
    "\n",
    "Returns : True, if object belongs to the given class/type if single class is passed or any of the class/type if tuple of class/type is passed, else returns False. Raises"
   ]
  },
  {
   "cell_type": "code",
   "execution_count": 77,
   "id": "e9cdc6b1",
   "metadata": {},
   "outputs": [
    {
     "name": "stdout",
     "output_type": "stream",
     "text": [
      "True\n"
     ]
    }
   ],
   "source": [
    "x = isinstance(\"Hello\", (float, int, str, list, dict, tuple))\n",
    "print(x)"
   ]
  },
  {
   "cell_type": "code",
   "execution_count": 79,
   "id": "269a4120",
   "metadata": {},
   "outputs": [
    {
     "name": "stdout",
     "output_type": "stream",
     "text": [
      "True\n"
     ]
    }
   ],
   "source": [
    "class myObj:\n",
    "  name = \"John\"\n",
    "\n",
    "y = myObj()\n",
    "\n",
    "x = isinstance(y, myObj)\n",
    "print(x)"
   ]
  },
  {
   "cell_type": "markdown",
   "id": "95d641d7",
   "metadata": {},
   "source": [
    "## 31. issubclass()\n",
    "\n",
    "The issubclass() function returns True if the specified object is a subclass of the specified object, otherwise False.\n",
    "\n",
    "Syntax : issubclass(object, subclass)\n",
    "\n",
    "Parameter\tDescription\n",
    "\n",
    "object\t : Required. An object.\n",
    "\n",
    "subclass  : A class object, or a tuple of class objects\n",
    "\n",
    "Return Type: True if object is subclass of a class, or any element of the tuple, otherwise False."
   ]
  },
  {
   "cell_type": "code",
   "execution_count": 80,
   "id": "f5da9d61",
   "metadata": {},
   "outputs": [],
   "source": [
    "class myAge:\n",
    "  age = 36\n",
    "\n",
    "class myObj(myAge):\n",
    "  name = \"John\"\n",
    "  age = myAge\n",
    "\n",
    "x = issubclass(myObj, myAge)"
   ]
  },
  {
   "cell_type": "markdown",
   "id": "a08a9d88",
   "metadata": {},
   "source": [
    "## 32. iter()\n",
    "\n",
    "The iter() function returns an iterator object.\n",
    "python iter() method returns the iterator object, it is used to convert an iterable to the iterator.\n",
    "\n",
    "syntax : iter(object, sentinel)\n",
    "\n",
    "Parameter\tDescription\n",
    "\n",
    "object: Required. An iterable object\n",
    "\n",
    "sentinel : optional. If the object is a callable object the iteration will stop when the returned value is the same as the sentinel\n",
    "\n",
    "Properties of Iterators\n",
    "\n",
    "Iteration object remembers iteration count via internal count variable.\n",
    "\n",
    "Once the iteration is complete, it raises a StopIteration exception and the iteration count cannot be reassigned to 0.\n",
    "\n",
    "Therefore, it can be used to traverse the container just once."
   ]
  },
  {
   "cell_type": "code",
   "execution_count": 81,
   "id": "a9193f9e",
   "metadata": {},
   "outputs": [
    {
     "name": "stdout",
     "output_type": "stream",
     "text": [
      "apple\n",
      "banana\n",
      "cherry\n"
     ]
    }
   ],
   "source": [
    "x = iter([\"apple\", \"banana\", \"cherry\"])\n",
    "print(next(x))\n",
    "print(next(x))\n",
    "print(next(x))"
   ]
  },
  {
   "cell_type": "markdown",
   "id": "f96875f7",
   "metadata": {},
   "source": [
    "## 33. len()\n",
    "\n",
    "The len() function returns the number of items in an object.\n",
    "\n",
    "When the object is a string, the len() function returns the number of characters in the string."
   ]
  },
  {
   "cell_type": "code",
   "execution_count": 82,
   "id": "3f92c9a5",
   "metadata": {},
   "outputs": [],
   "source": [
    "mylist = [\"apple\", \"banana\", \"cherry\"]\n",
    "x = len(mylist)"
   ]
  },
  {
   "cell_type": "markdown",
   "id": "f4aab336",
   "metadata": {},
   "source": [
    "## 34. list()\n",
    "\n",
    "The list() function creates a list object.\n",
    "\n",
    "A list object is a collection which is ordered and changeable.\n",
    "\n",
    "Syntax : list(iterable)"
   ]
  },
  {
   "cell_type": "code",
   "execution_count": 84,
   "id": "c23e6101",
   "metadata": {},
   "outputs": [],
   "source": [
    "x = list(('apple', 'banana', 'cherry'))"
   ]
  },
  {
   "cell_type": "code",
   "execution_count": 9,
   "id": "34af59e3",
   "metadata": {},
   "outputs": [
    {
     "name": "stdout",
     "output_type": "stream",
     "text": [
      "Please Enter List Elements: 217 2389 1290\n",
      "['2', '1', '7', ' ', '2', '3', '8', '9', ' ', '1', '2', '9', '0']\n"
     ]
    }
   ],
   "source": [
    "# Taking input from user as list\n",
    "list1 = list(input(\"Please Enter List Elements: \"))\n",
    "\n",
    "# printing\n",
    "print(list1)"
   ]
  },
  {
   "cell_type": "markdown",
   "id": "af596a1c",
   "metadata": {},
   "source": [
    "## 35. locals()\n",
    "\n",
    "The locals() function returns the local symbol table as a dictionary.\n",
    "\n",
    "A symbol table contains necessary information about the current program.\n",
    "\n",
    "syntax : locals()\n",
    "\n",
    "Python locals() function returns the dictionary of the current local symbol table.\n",
    "\n",
    "Symbol table: It is a data structure created by a compiler for which is used to store all information needed to execute a program.\n",
    "\n",
    "Local symbol Table: This symbol table stores all information needed for the local scope of the program and this information is accessed using python built-in function locals().\n",
    "\n",
    "Syntax : locals()\n",
    "\n",
    "Parameters: This function does not takes any input parameter. \n",
    "\n",
    "Return Type : This returns the information stored in local symbol table.\n",
    "\n",
    "more info : https://www.geeksforgeeks.org/python-locals-function/"
   ]
  },
  {
   "cell_type": "code",
   "execution_count": 85,
   "id": "ff45a389",
   "metadata": {},
   "outputs": [
    {
     "name": "stdout",
     "output_type": "stream",
     "text": [
      "{'__name__': '__main__', '__doc__': 'Automatically created module for IPython interactive environment', '__package__': None, '__loader__': None, '__spec__': None, '__builtin__': <module 'builtins' (built-in)>, '__builtins__': <module 'builtins' (built-in)>, '_ih': ['', 'x = abs(-32.453)\\nprint(x)', 'x = abs(-32.453)\\nprint(x)\\n\\nx = abs(3+5j)\\nprint(x)', 'mylist = [0, 1, 1]\\nx = all(mylist)\\nprint(x)\\nmytuple = (0, True, False)\\nx = all(mytuple)\\nprint(x)\\nmyset = {0, 1, 0}\\nx = all(myset)\\nprint(x)\\nmydict = {0 : \"Apple\", 1 : \"Orange\"}\\nx = all(mydict)\\nprint(x)', 'mytuple = (0, 1, False)\\nx = any(mytuple)\\nprint(x)', 'myset = {0, 1, 0}\\nx = any(myset)\\nprint(x)', 'mydict = {0 : \"Apple\", 1 : \"Orange\"}\\nx = any(mydict)\\nprint(x)', 'mylist = [0, 1, 1]\\nx = all(mylist)\\nprint(x)', 'mydict = {0 : \"Apple\", 1 : \"Orange\"}\\nx = all(mydict)\\nprint(x)', 'mytuple = (0, True, False)\\nx = all(mytuple)\\nprint(x)', 'myset = {0, 1, 0}\\nx = all(myset)\\nprint(x)', 'x = ascii(\"My name is Ståle\")\\nprint(x)', 'x = bin(36)\\nprint(x)', 'x = int(36, 2)\\nprint(x)', 'x = int(\"36\", 2)\\nprint(x)', 'x = int(\"10110011\", 2)\\nprint(x)', 'x = int(\"10110011\", 2) # THis converts binary string to decimal value\\nprint(x)', 'x = bin(36) # returns binary version of a specified integer\\nprint(x)', 'x = int(\"10110011\", 2) # THis converts binary string to decimal value\\nprint(x)', 'x = bool(1)\\nprint(x)', 'x = bytearray(4)\\nprint(x)', 'x = abs(-32.453)\\nprint(x)\\n\\nx = abs(3+5j)\\nprint(x)', 'mylist = [0, 1, 1]\\nx = all(mylist)\\nprint(x)', 'mydict = {0 : \"Apple\", 1 : \"Orange\"}\\nx = all(mydict)\\nprint(x)', 'mytuple = (0, True, False)\\nx = all(mytuple)\\nprint(x)', 'myset = {0, 1, 0}\\nx = all(myset)\\nprint(x)', 'mytuple = (0, 1, False)\\nx = any(mytuple)\\nprint(x)', 'myset = {0, 1, 0}\\nx = any(myset)\\nprint(x)', 'mydict = {0 : \"Apple\", 1 : \"Orange\"}\\nx = any(mydict)\\nprint(x)', 'x = bin(36) # returns binary version of a specified integer\\nprint(x)', 'x = int(\"10110011\", 2) # THis converts binary string to decimal value\\nprint(x)', 'x = bool(1)\\nprint(x)', 'def x():\\n  a = 5\\n\\nprint(callable(x))', 'def x():\\n  a = 5\\n\\nprint(callable(x))', 'x = 5\\n\\nprint(callable(x))', 'x = chr(97)\\nprint(x)', '# Python program to understand the classmethod\\n\\nclass Student:\\n\\n\\t# create a variable\\n\\tname = \"Geeksforgeeks\"\\n\\n\\t# create a function\\n\\tdef print_name(obj):\\n\\t\\tprint(\"The name is : \", obj.name)\\n\\n\\n# create print_name classmethod\\n# before creating this line print_name()\\n# It can be called only with object not with class\\nStudent.print_name = classmethod(Student.print_name)\\n\\n# now this method can be called as classmethod\\n# print_name() method is called a class method\\nStudent.print_name()', 'class geeks:\\n\\tcourse = \\'DSA\\'\\n\\n\\tdef purchase(obj):\\n\\t\\tprint(\"Purchase course : \", obj.course)\\n\\n\\ngeeks.purchase = classmethod(geeks.purchase)\\ngeeks.purchase()', '# Python program to understand the classmethod\\n\\nclass Student:\\n\\n\\t# create a variable\\n\\tname = \"Geeksforgeeks\"\\n\\n\\t# create a function\\n\\tdef print_name(obj):\\n\\t\\tprint(\"The name is : \", obj.name)\\n\\n\\n# create print_name classmethod\\n# before creating this line print_name()\\n# It can be called only with object not with class\\nStudent.print_name = classmethod(Student.print_name)\\n\\n# now this method can be called as classmethod\\n# print_name() method is called a class method\\nStudent.print_name()', 'class geeks:\\n\\tcourse = \\'DSA\\'\\n\\n\\tdef purchase(obj):\\n\\t\\tprint(\"Purchase course : \", obj.course)\\n\\n\\ngeeks.purchase = classmethod(geeks.purchase)\\ngeeks.purchase()', 'x = complex(3, 5)\\nprint(x)', \"x = complex('3+5j')\\nprint(x)\", 'x = complex(3, 5)\\nprint(x)', \"x = complex('3+5j')\\nprint(x)\", 'class Person:\\n  name = \"John\"\\n  age = 36\\n  country = \"Norway\"\\n\\ndelattr(Person, \\'age\\')', 'class Person:\\n  name = \"John\"\\n  age = 36\\n  country = \"Norway\"\\n\\ndelattr(Person, \\'age\\')\\nglobals(\\'age\\')', 'class Person:\\n  name = \"John\"\\n  age = 36\\n  country = \"Norway\"\\n\\ndelattr(Person, \\'age\\')\\n\\'age\\' in globals', 'class Person:\\n  name = \"John\"\\n  age = 36\\n  country = \"Norway\"\\n\\ndelattr(Person, \\'age\\')\\n\\'age\\' in globals()', 'class Person:\\n  name = \"John\"\\n  age = 36\\n  country = \"Norway\"\\n\\ndelattr(Person, \\'age\\')\\n\\'age\\' in globals()\\n\\'age\\' in locals()', 'class Person:\\n  name = \"John\"\\n  age = 36\\n  country = \"Norway\"\\n\\ndelattr(Person, \\'age\\')', 'x = dict(name = \"John\", age = 36, country = \"Norway\")\\nprint(x)', 'class Person:\\n  name = \"John\"\\n  age = 36\\n  country = \"Norway\"\\n\\nprint(dir(Person))', 'x = divmod(5, 2)\\nprint(x)', \"x = ('apple', 'banana', 'cherry')\\ny = enumerate(x)\\nprint(y)\", \"x = ('apple', 'banana', 'cherry')\\ny = list(enumerate(x))\\nprint(y)\", 'ages = [5, 12, 17, 18, 24, 32]\\n\\ndef myFunc(x):\\n  if x < 18:\\n    return False\\n  else:\\n    return True\\n\\nadults = filter(myFunc, ages)\\n\\nfor x in adults:\\n  print(x)', 'x = float(\"3.500\")\\nprint(x)', 'x = float(3)\\nprint(x)', \"x = format(0.5, '%')\\nprint(x)\", \"x = format(255, 'x')\\nprint(x)\", 'mylist = [\\'apple\\', \\'banana\\', \\'cherry\\']\\nx = frozenset(mylist)\\nx[1] = \"strawberry\"', \"mylist = ['apple', 'banana', 'cherry']\\nx = frozenset(mylist)\\nprint(x)\", 'class Person:\\n  name = \"John\"\\n  age = 36\\n  country = \"Norway\"\\n\\nx = getattr(Person, \\'age\\')\\nprint(x)', 'class Person:\\n  name = \"John\"\\n  age = 36\\n  country = \"Norway\"\\n\\nx = getattr(Person, \\'page\\', \\'my message\\')\\nprint(x)', 'x = globals()\\nprint(x)', 'x = globals()\\nprint(x[\"__file__\"])', 'class Person:\\n  name = \"John\"\\n  age = 36\\n  country = \"Norway\"\\n\\nx = hasattr(Person, \\'age\\')\\nprint(x)', '# Python 3 code to demonstrate\\n# working of hash()\\n\\n# initializing objects\\nint_val = 4\\nstr_val = \\'GeeksforGeeks\\'\\nflt_val = 24.56\\n\\n# Printing the hash values.\\n# Notice Integer value doesn\\'t change\\n# You\\'ll have answer later in article.\\nprint(\"The integer hash value is : \" + str(hash(int_val)))\\nprint(\"The string hash value is : \" + str(hash(str_val)))\\nprint(\"The float hash value is : \" + str(hash(flt_val)))', '# Python 3 code to demonstrate\\n# property of hash()\\n\\n# initializing objects\\n# tuple are immutable\\ntuple_val = (1, 2, 3, 4, 5)\\n\\n# list are mutable\\nlist_val = [1, 2, 3, 4, 5]\\n\\n# Printing the hash values.\\n# Notice exception when trying\\n# to convert mutable object\\nprint(\"The tuple hash value is : \" + str(hash(tuple_val)))\\nprint(\"The list hash value is : \" + str(hash(list_val)))', '# Python 3 code to demonstrate\\n# property of hash()\\n\\n# initializing objects\\n# tuple are immutable\\ntuple_val = (1, 2, 3, 4, 5)\\n\\n# list are mutable\\nlist_val = [1, 2, 3, 4, 5]\\n\\n# Printing the hash values.\\n# Notice exception when trying\\n# to convert mutable object\\nprint(\"The tuple hash value is : \" + str(hash(tuple_val)))\\nprint(\"The list hash value is : \" + str(hash(list_val)))', \"# hash() for immutable tuple object\\nvar = ('G','E','E','K')\\n\\nprint(hash(var))\", 'l = [1, 2, 3, 4]\\nprint(hash(l))', 'x = hex(255)', 'x = hex(255)\\nprint(x)', \"x = ('apple', 'banana', 'cherry')\\ny = id(x)\\nprint(y)\", \"print('Enter your name:')\\nx = input()\\nprint('Hello, ' + x)\", 'x = int(3.5)\\nprint(x)\\nx = int(\"12\")\\nprint(x)', 'x = isinstance(\"Hello\", (float, int, str, list, dict, tuple))\\nprint(x)', 'class myObj:\\n  name = \"John\"\\n\\ny = myObj()\\n\\nx = isinstance(y, myObj)', 'class myObj:\\n  name = \"John\"\\n\\ny = myObj()\\n\\nx = isinstance(y, myObj)\\nprint(x)', 'class myAge:\\n  age = 36\\n\\nclass myObj(myAge):\\n  name = \"John\"\\n  age = myAge\\n\\nx = issubclass(myObj, myAge)', 'x = iter([\"apple\", \"banana\", \"cherry\"])\\nprint(next(x))\\nprint(next(x))\\nprint(next(x))', 'mylist = [\"apple\", \"banana\", \"cherry\"]\\nx = len(mylist)', \"x = list(('apple', 'banana', 'cherry'))\", \"x = list(('apple', 'banana', 'cherry'))\", 'x = locals()\\nprint(x)'], '_oh': {47: False, 48: False}, '_dh': ['C:\\\\Users\\\\balaj'], 'In': ['', 'x = abs(-32.453)\\nprint(x)', 'x = abs(-32.453)\\nprint(x)\\n\\nx = abs(3+5j)\\nprint(x)', 'mylist = [0, 1, 1]\\nx = all(mylist)\\nprint(x)\\nmytuple = (0, True, False)\\nx = all(mytuple)\\nprint(x)\\nmyset = {0, 1, 0}\\nx = all(myset)\\nprint(x)\\nmydict = {0 : \"Apple\", 1 : \"Orange\"}\\nx = all(mydict)\\nprint(x)', 'mytuple = (0, 1, False)\\nx = any(mytuple)\\nprint(x)', 'myset = {0, 1, 0}\\nx = any(myset)\\nprint(x)', 'mydict = {0 : \"Apple\", 1 : \"Orange\"}\\nx = any(mydict)\\nprint(x)', 'mylist = [0, 1, 1]\\nx = all(mylist)\\nprint(x)', 'mydict = {0 : \"Apple\", 1 : \"Orange\"}\\nx = all(mydict)\\nprint(x)', 'mytuple = (0, True, False)\\nx = all(mytuple)\\nprint(x)', 'myset = {0, 1, 0}\\nx = all(myset)\\nprint(x)', 'x = ascii(\"My name is Ståle\")\\nprint(x)', 'x = bin(36)\\nprint(x)', 'x = int(36, 2)\\nprint(x)', 'x = int(\"36\", 2)\\nprint(x)', 'x = int(\"10110011\", 2)\\nprint(x)', 'x = int(\"10110011\", 2) # THis converts binary string to decimal value\\nprint(x)', 'x = bin(36) # returns binary version of a specified integer\\nprint(x)', 'x = int(\"10110011\", 2) # THis converts binary string to decimal value\\nprint(x)', 'x = bool(1)\\nprint(x)', 'x = bytearray(4)\\nprint(x)', 'x = abs(-32.453)\\nprint(x)\\n\\nx = abs(3+5j)\\nprint(x)', 'mylist = [0, 1, 1]\\nx = all(mylist)\\nprint(x)', 'mydict = {0 : \"Apple\", 1 : \"Orange\"}\\nx = all(mydict)\\nprint(x)', 'mytuple = (0, True, False)\\nx = all(mytuple)\\nprint(x)', 'myset = {0, 1, 0}\\nx = all(myset)\\nprint(x)', 'mytuple = (0, 1, False)\\nx = any(mytuple)\\nprint(x)', 'myset = {0, 1, 0}\\nx = any(myset)\\nprint(x)', 'mydict = {0 : \"Apple\", 1 : \"Orange\"}\\nx = any(mydict)\\nprint(x)', 'x = bin(36) # returns binary version of a specified integer\\nprint(x)', 'x = int(\"10110011\", 2) # THis converts binary string to decimal value\\nprint(x)', 'x = bool(1)\\nprint(x)', 'def x():\\n  a = 5\\n\\nprint(callable(x))', 'def x():\\n  a = 5\\n\\nprint(callable(x))', 'x = 5\\n\\nprint(callable(x))', 'x = chr(97)\\nprint(x)', '# Python program to understand the classmethod\\n\\nclass Student:\\n\\n\\t# create a variable\\n\\tname = \"Geeksforgeeks\"\\n\\n\\t# create a function\\n\\tdef print_name(obj):\\n\\t\\tprint(\"The name is : \", obj.name)\\n\\n\\n# create print_name classmethod\\n# before creating this line print_name()\\n# It can be called only with object not with class\\nStudent.print_name = classmethod(Student.print_name)\\n\\n# now this method can be called as classmethod\\n# print_name() method is called a class method\\nStudent.print_name()', 'class geeks:\\n\\tcourse = \\'DSA\\'\\n\\n\\tdef purchase(obj):\\n\\t\\tprint(\"Purchase course : \", obj.course)\\n\\n\\ngeeks.purchase = classmethod(geeks.purchase)\\ngeeks.purchase()', '# Python program to understand the classmethod\\n\\nclass Student:\\n\\n\\t# create a variable\\n\\tname = \"Geeksforgeeks\"\\n\\n\\t# create a function\\n\\tdef print_name(obj):\\n\\t\\tprint(\"The name is : \", obj.name)\\n\\n\\n# create print_name classmethod\\n# before creating this line print_name()\\n# It can be called only with object not with class\\nStudent.print_name = classmethod(Student.print_name)\\n\\n# now this method can be called as classmethod\\n# print_name() method is called a class method\\nStudent.print_name()', 'class geeks:\\n\\tcourse = \\'DSA\\'\\n\\n\\tdef purchase(obj):\\n\\t\\tprint(\"Purchase course : \", obj.course)\\n\\n\\ngeeks.purchase = classmethod(geeks.purchase)\\ngeeks.purchase()', 'x = complex(3, 5)\\nprint(x)', \"x = complex('3+5j')\\nprint(x)\", 'x = complex(3, 5)\\nprint(x)', \"x = complex('3+5j')\\nprint(x)\", 'class Person:\\n  name = \"John\"\\n  age = 36\\n  country = \"Norway\"\\n\\ndelattr(Person, \\'age\\')', 'class Person:\\n  name = \"John\"\\n  age = 36\\n  country = \"Norway\"\\n\\ndelattr(Person, \\'age\\')\\nglobals(\\'age\\')', 'class Person:\\n  name = \"John\"\\n  age = 36\\n  country = \"Norway\"\\n\\ndelattr(Person, \\'age\\')\\n\\'age\\' in globals', 'class Person:\\n  name = \"John\"\\n  age = 36\\n  country = \"Norway\"\\n\\ndelattr(Person, \\'age\\')\\n\\'age\\' in globals()', 'class Person:\\n  name = \"John\"\\n  age = 36\\n  country = \"Norway\"\\n\\ndelattr(Person, \\'age\\')\\n\\'age\\' in globals()\\n\\'age\\' in locals()', 'class Person:\\n  name = \"John\"\\n  age = 36\\n  country = \"Norway\"\\n\\ndelattr(Person, \\'age\\')', 'x = dict(name = \"John\", age = 36, country = \"Norway\")\\nprint(x)', 'class Person:\\n  name = \"John\"\\n  age = 36\\n  country = \"Norway\"\\n\\nprint(dir(Person))', 'x = divmod(5, 2)\\nprint(x)', \"x = ('apple', 'banana', 'cherry')\\ny = enumerate(x)\\nprint(y)\", \"x = ('apple', 'banana', 'cherry')\\ny = list(enumerate(x))\\nprint(y)\", 'ages = [5, 12, 17, 18, 24, 32]\\n\\ndef myFunc(x):\\n  if x < 18:\\n    return False\\n  else:\\n    return True\\n\\nadults = filter(myFunc, ages)\\n\\nfor x in adults:\\n  print(x)', 'x = float(\"3.500\")\\nprint(x)', 'x = float(3)\\nprint(x)', \"x = format(0.5, '%')\\nprint(x)\", \"x = format(255, 'x')\\nprint(x)\", 'mylist = [\\'apple\\', \\'banana\\', \\'cherry\\']\\nx = frozenset(mylist)\\nx[1] = \"strawberry\"', \"mylist = ['apple', 'banana', 'cherry']\\nx = frozenset(mylist)\\nprint(x)\", 'class Person:\\n  name = \"John\"\\n  age = 36\\n  country = \"Norway\"\\n\\nx = getattr(Person, \\'age\\')\\nprint(x)', 'class Person:\\n  name = \"John\"\\n  age = 36\\n  country = \"Norway\"\\n\\nx = getattr(Person, \\'page\\', \\'my message\\')\\nprint(x)', 'x = globals()\\nprint(x)', 'x = globals()\\nprint(x[\"__file__\"])', 'class Person:\\n  name = \"John\"\\n  age = 36\\n  country = \"Norway\"\\n\\nx = hasattr(Person, \\'age\\')\\nprint(x)', '# Python 3 code to demonstrate\\n# working of hash()\\n\\n# initializing objects\\nint_val = 4\\nstr_val = \\'GeeksforGeeks\\'\\nflt_val = 24.56\\n\\n# Printing the hash values.\\n# Notice Integer value doesn\\'t change\\n# You\\'ll have answer later in article.\\nprint(\"The integer hash value is : \" + str(hash(int_val)))\\nprint(\"The string hash value is : \" + str(hash(str_val)))\\nprint(\"The float hash value is : \" + str(hash(flt_val)))', '# Python 3 code to demonstrate\\n# property of hash()\\n\\n# initializing objects\\n# tuple are immutable\\ntuple_val = (1, 2, 3, 4, 5)\\n\\n# list are mutable\\nlist_val = [1, 2, 3, 4, 5]\\n\\n# Printing the hash values.\\n# Notice exception when trying\\n# to convert mutable object\\nprint(\"The tuple hash value is : \" + str(hash(tuple_val)))\\nprint(\"The list hash value is : \" + str(hash(list_val)))', '# Python 3 code to demonstrate\\n# property of hash()\\n\\n# initializing objects\\n# tuple are immutable\\ntuple_val = (1, 2, 3, 4, 5)\\n\\n# list are mutable\\nlist_val = [1, 2, 3, 4, 5]\\n\\n# Printing the hash values.\\n# Notice exception when trying\\n# to convert mutable object\\nprint(\"The tuple hash value is : \" + str(hash(tuple_val)))\\nprint(\"The list hash value is : \" + str(hash(list_val)))', \"# hash() for immutable tuple object\\nvar = ('G','E','E','K')\\n\\nprint(hash(var))\", 'l = [1, 2, 3, 4]\\nprint(hash(l))', 'x = hex(255)', 'x = hex(255)\\nprint(x)', \"x = ('apple', 'banana', 'cherry')\\ny = id(x)\\nprint(y)\", \"print('Enter your name:')\\nx = input()\\nprint('Hello, ' + x)\", 'x = int(3.5)\\nprint(x)\\nx = int(\"12\")\\nprint(x)', 'x = isinstance(\"Hello\", (float, int, str, list, dict, tuple))\\nprint(x)', 'class myObj:\\n  name = \"John\"\\n\\ny = myObj()\\n\\nx = isinstance(y, myObj)', 'class myObj:\\n  name = \"John\"\\n\\ny = myObj()\\n\\nx = isinstance(y, myObj)\\nprint(x)', 'class myAge:\\n  age = 36\\n\\nclass myObj(myAge):\\n  name = \"John\"\\n  age = myAge\\n\\nx = issubclass(myObj, myAge)', 'x = iter([\"apple\", \"banana\", \"cherry\"])\\nprint(next(x))\\nprint(next(x))\\nprint(next(x))', 'mylist = [\"apple\", \"banana\", \"cherry\"]\\nx = len(mylist)', \"x = list(('apple', 'banana', 'cherry'))\", \"x = list(('apple', 'banana', 'cherry'))\", 'x = locals()\\nprint(x)'], 'Out': {47: False, 48: False}, 'get_ipython': <bound method InteractiveShell.get_ipython of <ipykernel.zmqshell.ZMQInteractiveShell object at 0x0000023D0CD5E2B0>>, 'exit': <IPython.core.autocall.ZMQExitAutocall object at 0x0000023D0CD5EFA0>, 'quit': <IPython.core.autocall.ZMQExitAutocall object at 0x0000023D0CD5EFA0>, '_': False, '__': False, '___': '', '_i': \"x = list(('apple', 'banana', 'cherry'))\", '_ii': \"x = list(('apple', 'banana', 'cherry'))\", '_iii': 'mylist = [\"apple\", \"banana\", \"cherry\"]\\nx = len(mylist)', '_i1': 'x = abs(-32.453)\\nprint(x)', 'x': {...}, '_i2': 'x = abs(-32.453)\\nprint(x)\\n\\nx = abs(3+5j)\\nprint(x)', '_i3': 'mylist = [0, 1, 1]\\nx = all(mylist)\\nprint(x)\\nmytuple = (0, True, False)\\nx = all(mytuple)\\nprint(x)\\nmyset = {0, 1, 0}\\nx = all(myset)\\nprint(x)\\nmydict = {0 : \"Apple\", 1 : \"Orange\"}\\nx = all(mydict)\\nprint(x)', 'mylist': ['apple', 'banana', 'cherry'], 'mytuple': (0, 1, False), 'myset': {0, 1}, 'mydict': {0: 'Apple', 1: 'Orange'}, '_i4': 'mytuple = (0, 1, False)\\nx = any(mytuple)\\nprint(x)', '_i5': 'myset = {0, 1, 0}\\nx = any(myset)\\nprint(x)', '_i6': 'mydict = {0 : \"Apple\", 1 : \"Orange\"}\\nx = any(mydict)\\nprint(x)', '_i7': 'mylist = [0, 1, 1]\\nx = all(mylist)\\nprint(x)', '_i8': 'mydict = {0 : \"Apple\", 1 : \"Orange\"}\\nx = all(mydict)\\nprint(x)', '_i9': 'mytuple = (0, True, False)\\nx = all(mytuple)\\nprint(x)', '_i10': 'myset = {0, 1, 0}\\nx = all(myset)\\nprint(x)', '_i11': 'x = ascii(\"My name is Ståle\")\\nprint(x)', '_i12': 'x = bin(36)\\nprint(x)', '_i13': 'x = int(36, 2)\\nprint(x)', '_i14': 'x = int(\"36\", 2)\\nprint(x)', '_i15': 'x = int(\"10110011\", 2)\\nprint(x)', '_i16': 'x = int(\"10110011\", 2) # THis converts binary string to decimal value\\nprint(x)', '_i17': 'x = bin(36) # returns binary version of a specified integer\\nprint(x)', '_i18': 'x = int(\"10110011\", 2) # THis converts binary string to decimal value\\nprint(x)', '_i19': 'x = bool(1)\\nprint(x)', '_i20': 'x = bytearray(4)\\nprint(x)', '_i21': 'x = abs(-32.453)\\nprint(x)\\n\\nx = abs(3+5j)\\nprint(x)', '_i22': 'mylist = [0, 1, 1]\\nx = all(mylist)\\nprint(x)', '_i23': 'mydict = {0 : \"Apple\", 1 : \"Orange\"}\\nx = all(mydict)\\nprint(x)', '_i24': 'mytuple = (0, True, False)\\nx = all(mytuple)\\nprint(x)', '_i25': 'myset = {0, 1, 0}\\nx = all(myset)\\nprint(x)', '_i26': 'mytuple = (0, 1, False)\\nx = any(mytuple)\\nprint(x)', '_i27': 'myset = {0, 1, 0}\\nx = any(myset)\\nprint(x)', '_i28': 'mydict = {0 : \"Apple\", 1 : \"Orange\"}\\nx = any(mydict)\\nprint(x)', '_i29': 'x = bin(36) # returns binary version of a specified integer\\nprint(x)', '_i30': 'x = int(\"10110011\", 2) # THis converts binary string to decimal value\\nprint(x)', '_i31': 'x = bool(1)\\nprint(x)', '_i32': 'def x():\\n  a = 5\\n\\nprint(callable(x))', '_i33': 'def x():\\n  a = 5\\n\\nprint(callable(x))', '_i34': 'x = 5\\n\\nprint(callable(x))', '_i35': 'x = chr(97)\\nprint(x)', '_i36': '# Python program to understand the classmethod\\n\\nclass Student:\\n\\n\\t# create a variable\\n\\tname = \"Geeksforgeeks\"\\n\\n\\t# create a function\\n\\tdef print_name(obj):\\n\\t\\tprint(\"The name is : \", obj.name)\\n\\n\\n# create print_name classmethod\\n# before creating this line print_name()\\n# It can be called only with object not with class\\nStudent.print_name = classmethod(Student.print_name)\\n\\n# now this method can be called as classmethod\\n# print_name() method is called a class method\\nStudent.print_name()', 'Student': <class '__main__.Student'>, '_i37': 'class geeks:\\n\\tcourse = \\'DSA\\'\\n\\n\\tdef purchase(obj):\\n\\t\\tprint(\"Purchase course : \", obj.course)\\n\\n\\ngeeks.purchase = classmethod(geeks.purchase)\\ngeeks.purchase()', 'geeks': <class '__main__.geeks'>, '_i38': '# Python program to understand the classmethod\\n\\nclass Student:\\n\\n\\t# create a variable\\n\\tname = \"Geeksforgeeks\"\\n\\n\\t# create a function\\n\\tdef print_name(obj):\\n\\t\\tprint(\"The name is : \", obj.name)\\n\\n\\n# create print_name classmethod\\n# before creating this line print_name()\\n# It can be called only with object not with class\\nStudent.print_name = classmethod(Student.print_name)\\n\\n# now this method can be called as classmethod\\n# print_name() method is called a class method\\nStudent.print_name()', '_i39': 'class geeks:\\n\\tcourse = \\'DSA\\'\\n\\n\\tdef purchase(obj):\\n\\t\\tprint(\"Purchase course : \", obj.course)\\n\\n\\ngeeks.purchase = classmethod(geeks.purchase)\\ngeeks.purchase()', '_i40': 'x = complex(3, 5)\\nprint(x)', '_i41': \"x = complex('3+5j')\\nprint(x)\", '_i42': 'x = complex(3, 5)\\nprint(x)', '_i43': \"x = complex('3+5j')\\nprint(x)\", '_i44': 'class Person:\\n  name = \"John\"\\n  age = 36\\n  country = \"Norway\"\\n\\ndelattr(Person, \\'age\\')', 'Person': <class '__main__.Person'>, '_i45': 'class Person:\\n  name = \"John\"\\n  age = 36\\n  country = \"Norway\"\\n\\ndelattr(Person, \\'age\\')\\nglobals(\\'age\\')', '_i46': 'class Person:\\n  name = \"John\"\\n  age = 36\\n  country = \"Norway\"\\n\\ndelattr(Person, \\'age\\')\\n\\'age\\' in globals', '_i47': 'class Person:\\n  name = \"John\"\\n  age = 36\\n  country = \"Norway\"\\n\\ndelattr(Person, \\'age\\')\\n\\'age\\' in globals()', '_47': False, '_i48': 'class Person:\\n  name = \"John\"\\n  age = 36\\n  country = \"Norway\"\\n\\ndelattr(Person, \\'age\\')\\n\\'age\\' in globals()\\n\\'age\\' in locals()', '_48': False, '_i49': 'class Person:\\n  name = \"John\"\\n  age = 36\\n  country = \"Norway\"\\n\\ndelattr(Person, \\'age\\')', '_i50': 'x = dict(name = \"John\", age = 36, country = \"Norway\")\\nprint(x)', '_i51': 'class Person:\\n  name = \"John\"\\n  age = 36\\n  country = \"Norway\"\\n\\nprint(dir(Person))', '_i52': 'x = divmod(5, 2)\\nprint(x)', '_i53': \"x = ('apple', 'banana', 'cherry')\\ny = enumerate(x)\\nprint(y)\", 'y': <__main__.myObj object at 0x0000023D0CE9ABE0>, '_i54': \"x = ('apple', 'banana', 'cherry')\\ny = list(enumerate(x))\\nprint(y)\", '_i55': 'ages = [5, 12, 17, 18, 24, 32]\\n\\ndef myFunc(x):\\n  if x < 18:\\n    return False\\n  else:\\n    return True\\n\\nadults = filter(myFunc, ages)\\n\\nfor x in adults:\\n  print(x)', 'ages': [5, 12, 17, 18, 24, 32], 'myFunc': <function myFunc at 0x0000023D0CE91700>, 'adults': <filter object at 0x0000023D0CE9A640>, '_i56': 'x = float(\"3.500\")\\nprint(x)', '_i57': 'x = float(3)\\nprint(x)', '_i58': \"x = format(0.5, '%')\\nprint(x)\", '_i59': \"x = format(255, 'x')\\nprint(x)\", '_i60': 'mylist = [\\'apple\\', \\'banana\\', \\'cherry\\']\\nx = frozenset(mylist)\\nx[1] = \"strawberry\"', '_i61': \"mylist = ['apple', 'banana', 'cherry']\\nx = frozenset(mylist)\\nprint(x)\", '_i62': 'class Person:\\n  name = \"John\"\\n  age = 36\\n  country = \"Norway\"\\n\\nx = getattr(Person, \\'age\\')\\nprint(x)', '_i63': 'class Person:\\n  name = \"John\"\\n  age = 36\\n  country = \"Norway\"\\n\\nx = getattr(Person, \\'page\\', \\'my message\\')\\nprint(x)', '_i64': 'x = globals()\\nprint(x)', '_i65': 'x = globals()\\nprint(x[\"__file__\"])', '_i66': 'class Person:\\n  name = \"John\"\\n  age = 36\\n  country = \"Norway\"\\n\\nx = hasattr(Person, \\'age\\')\\nprint(x)', '_i67': '# Python 3 code to demonstrate\\n# working of hash()\\n\\n# initializing objects\\nint_val = 4\\nstr_val = \\'GeeksforGeeks\\'\\nflt_val = 24.56\\n\\n# Printing the hash values.\\n# Notice Integer value doesn\\'t change\\n# You\\'ll have answer later in article.\\nprint(\"The integer hash value is : \" + str(hash(int_val)))\\nprint(\"The string hash value is : \" + str(hash(str_val)))\\nprint(\"The float hash value is : \" + str(hash(flt_val)))', 'int_val': 4, 'str_val': 'GeeksforGeeks', 'flt_val': 24.56, '_i68': '# Python 3 code to demonstrate\\n# property of hash()\\n\\n# initializing objects\\n# tuple are immutable\\ntuple_val = (1, 2, 3, 4, 5)\\n\\n# list are mutable\\nlist_val = [1, 2, 3, 4, 5]\\n\\n# Printing the hash values.\\n# Notice exception when trying\\n# to convert mutable object\\nprint(\"The tuple hash value is : \" + str(hash(tuple_val)))\\nprint(\"The list hash value is : \" + str(hash(list_val)))', 'tuple_val': (1, 2, 3, 4, 5), 'list_val': [1, 2, 3, 4, 5], '_i69': '# Python 3 code to demonstrate\\n# property of hash()\\n\\n# initializing objects\\n# tuple are immutable\\ntuple_val = (1, 2, 3, 4, 5)\\n\\n# list are mutable\\nlist_val = [1, 2, 3, 4, 5]\\n\\n# Printing the hash values.\\n# Notice exception when trying\\n# to convert mutable object\\nprint(\"The tuple hash value is : \" + str(hash(tuple_val)))\\nprint(\"The list hash value is : \" + str(hash(list_val)))', '_i70': \"# hash() for immutable tuple object\\nvar = ('G','E','E','K')\\n\\nprint(hash(var))\", 'var': ('G', 'E', 'E', 'K'), '_i71': 'l = [1, 2, 3, 4]\\nprint(hash(l))', 'l': [1, 2, 3, 4], '_i72': 'x = hex(255)', '_i73': 'x = hex(255)\\nprint(x)', '_i74': \"x = ('apple', 'banana', 'cherry')\\ny = id(x)\\nprint(y)\", '_i75': \"print('Enter your name:')\\nx = input()\\nprint('Hello, ' + x)\", '_i76': 'x = int(3.5)\\nprint(x)\\nx = int(\"12\")\\nprint(x)', '_i77': 'x = isinstance(\"Hello\", (float, int, str, list, dict, tuple))\\nprint(x)', '_i78': 'class myObj:\\n  name = \"John\"\\n\\ny = myObj()\\n\\nx = isinstance(y, myObj)', 'myObj': <class '__main__.myObj'>, '_i79': 'class myObj:\\n  name = \"John\"\\n\\ny = myObj()\\n\\nx = isinstance(y, myObj)\\nprint(x)', '_i80': 'class myAge:\\n  age = 36\\n\\nclass myObj(myAge):\\n  name = \"John\"\\n  age = myAge\\n\\nx = issubclass(myObj, myAge)', 'myAge': <class '__main__.myAge'>, '_i81': 'x = iter([\"apple\", \"banana\", \"cherry\"])\\nprint(next(x))\\nprint(next(x))\\nprint(next(x))', '_i82': 'mylist = [\"apple\", \"banana\", \"cherry\"]\\nx = len(mylist)', '_i83': \"x = list(('apple', 'banana', 'cherry'))\", '_i84': \"x = list(('apple', 'banana', 'cherry'))\", '_i85': 'x = locals()\\nprint(x)'}\n"
     ]
    }
   ],
   "source": [
    "x = locals()\n",
    "print(x)"
   ]
  },
  {
   "cell_type": "code",
   "execution_count": 86,
   "id": "18743658",
   "metadata": {},
   "outputs": [
    {
     "ename": "KeyError",
     "evalue": "'__file__'",
     "output_type": "error",
     "traceback": [
      "\u001b[1;31m---------------------------------------------------------------------------\u001b[0m",
      "\u001b[1;31mKeyError\u001b[0m                                  Traceback (most recent call last)",
      "\u001b[1;32m~\\AppData\\Local\\Temp\\ipykernel_11988\\60625323.py\u001b[0m in \u001b[0;36m<module>\u001b[1;34m\u001b[0m\n\u001b[0;32m      1\u001b[0m \u001b[0mx\u001b[0m \u001b[1;33m=\u001b[0m \u001b[0mlocals\u001b[0m\u001b[1;33m(\u001b[0m\u001b[1;33m)\u001b[0m\u001b[1;33m\u001b[0m\u001b[1;33m\u001b[0m\u001b[0m\n\u001b[1;32m----> 2\u001b[1;33m \u001b[0mprint\u001b[0m\u001b[1;33m(\u001b[0m\u001b[0mx\u001b[0m\u001b[1;33m[\u001b[0m\u001b[1;34m\"__file__\"\u001b[0m\u001b[1;33m]\u001b[0m\u001b[1;33m)\u001b[0m\u001b[1;33m\u001b[0m\u001b[1;33m\u001b[0m\u001b[0m\n\u001b[0m",
      "\u001b[1;31mKeyError\u001b[0m: '__file__'"
     ]
    }
   ],
   "source": [
    "x = locals()\n",
    "print(x[\"__file__\"])"
   ]
  },
  {
   "cell_type": "markdown",
   "id": "aa7857b2",
   "metadata": {},
   "source": [
    "## 36. map()\n",
    "\n",
    "The map() function executes a specified function for each item in an iterable. The item is sent to the function as a parameter.\n",
    "\n",
    "Syntax : map(function, iterables)\n",
    "\n",
    "Parameter\tDescription\n",
    "\n",
    "function: \tRequired. The function to execute for each item\n",
    "\n",
    "iterable: Required. A sequence, collection or an iterator object. You can send as many iterables as you like, just make sure the function has one parameter for each iterable.\n",
    "\n",
    "for more info : https://www.geeksforgeeks.org/python-map-function/"
   ]
  },
  {
   "cell_type": "code",
   "execution_count": 87,
   "id": "ce0288ec",
   "metadata": {},
   "outputs": [],
   "source": [
    "def myfunc(a, b):\n",
    "  return a + b\n",
    "\n",
    "x = map(myfunc, ('apple', 'banana', 'cherry'), ('orange', 'lemon', 'pineapple'))"
   ]
  },
  {
   "cell_type": "code",
   "execution_count": 88,
   "id": "ea9a061a",
   "metadata": {},
   "outputs": [],
   "source": [
    "def myfunc(n):\n",
    "  return len(n)\n",
    "\n",
    "x = map(myfunc, ('apple', 'banana', 'cherry'))"
   ]
  },
  {
   "cell_type": "markdown",
   "id": "181b8c7f",
   "metadata": {},
   "source": [
    "## 37. max()\n",
    "\n",
    "for more : https://www.geeksforgeeks.org/python-max-function/\n",
    "\n",
    "The max() function returns the item with the highest value, or the item with the highest value in an iterable.\n",
    "\n",
    "If the values are strings, an alphabetically comparison is done.\n",
    "\n",
    "syntax : max(n1, n2, n3, ...) or max(iterable)\n",
    "\n",
    "Syntax : max(arg1, arg2, *args[, key]) \n",
    "\n",
    "Parameters : \n",
    "\n",
    "arg1, arg2 : objects of the same datatype\n",
    "\n",
    "*args : multiple objects\n",
    "\n",
    "key : function where comparison of iterable is performed based on its \n",
    "\n",
    "return value\n",
    "Returns : The maximum value "
   ]
  },
  {
   "cell_type": "code",
   "execution_count": 12,
   "id": "a998ffb5",
   "metadata": {},
   "outputs": [],
   "source": [
    "x = max(5, 10)\n",
    "x = max(\"Mike\", \"John\", \"Vicky\")\n",
    "a = (1, 5, 3, 9)\n",
    "x = max(a)"
   ]
  },
  {
   "cell_type": "code",
   "execution_count": 13,
   "id": "b1c1194d",
   "metadata": {},
   "outputs": [
    {
     "name": "stdout",
     "output_type": "stream",
     "text": [
      "geeks\n"
     ]
    }
   ],
   "source": [
    "var1 = \"geeks\"\n",
    "var2 = \"for\"\n",
    "var3 = \"geek\"\n",
    "\n",
    "max_val = max(var1, var2, var3,key=len)\n",
    "print(max_val)"
   ]
  },
  {
   "cell_type": "markdown",
   "id": "cc3c1165",
   "metadata": {},
   "source": [
    "## max() function with iterable\n",
    "When an iterable is passed to the max() function it returns the largest item of the iterable. \n",
    "\n",
    "Syntax : max(iterable, *iterables[, key, default]) \n",
    "\n",
    "Parameters : \n",
    "\n",
    "iterable : iterable object like list or string.\n",
    "\n",
    "*iterables : multiple iterables\n",
    "\n",
    "key : function where comparison of iterable is performed based on its return value\n",
    "\n",
    "default : value if the iterable is empty\n",
    "\n",
    "Returns : The maximum value. "
   ]
  },
  {
   "cell_type": "code",
   "execution_count": 14,
   "id": "7f528282",
   "metadata": {},
   "outputs": [
    {
     "name": "stdout",
     "output_type": "stream",
     "text": [
      "Geeks\n"
     ]
    }
   ],
   "source": [
    "string_list = [\"Geeks\", \"for\", \"Geek\"]\n",
    "\n",
    "max_val = max(string_list, key=len)\n",
    "print(max_val)"
   ]
  },
  {
   "cell_type": "markdown",
   "id": "8977c183",
   "metadata": {},
   "source": [
    "## 38. min()\n",
    "\n",
    "The min() function returns the item with the lowest value, or the item with the lowest value in an iterable.\n",
    "\n",
    "If the values are strings, an alphabetically comparison is done."
   ]
  },
  {
   "cell_type": "code",
   "execution_count": 90,
   "id": "846032da",
   "metadata": {},
   "outputs": [
    {
     "data": {
      "text/plain": [
       "191"
      ]
     },
     "execution_count": 90,
     "metadata": {},
     "output_type": "execute_result"
    }
   ],
   "source": [
    "min(12768, 23987, 191)"
   ]
  },
  {
   "cell_type": "code",
   "execution_count": 15,
   "id": "32f88dc6",
   "metadata": {},
   "outputs": [
    {
     "name": "stdout",
     "output_type": "stream",
     "text": [
      "GfG\n"
     ]
    }
   ],
   "source": [
    "# find the string with minimum length\n",
    "s = min(\"GfG\", \"Geeks\", \"GeeksWorld\", key = len)\n",
    "print(s)"
   ]
  },
  {
   "cell_type": "markdown",
   "id": "2d8a5c89",
   "metadata": {},
   "source": [
    "## 39. next()\n",
    "\n",
    "The next() function returns the next item in an iterator.\n",
    "\n",
    "You can add a default return value, to return if the iterable has reached to its end.\n",
    "\n",
    "syntax : next(iterable, default)\n",
    "\n",
    "Return : Returns next element from the list, if not present prints the default value. If default value is not present, raises the StopIteration error."
   ]
  },
  {
   "cell_type": "code",
   "execution_count": 91,
   "id": "91e3753a",
   "metadata": {},
   "outputs": [
    {
     "name": "stdout",
     "output_type": "stream",
     "text": [
      "apple\n",
      "banana\n",
      "cherry\n"
     ]
    }
   ],
   "source": [
    "mylist = iter([\"apple\", \"banana\", \"cherry\"])\n",
    "x = next(mylist)\n",
    "print(x)\n",
    "x = next(mylist)\n",
    "print(x)\n",
    "x = next(mylist)\n",
    "print(x)"
   ]
  },
  {
   "cell_type": "code",
   "execution_count": 16,
   "id": "eaca7c95",
   "metadata": {},
   "outputs": [
    {
     "name": "stdout",
     "output_type": "stream",
     "text": [
      "1\n",
      "No more element\n"
     ]
    }
   ],
   "source": [
    "list1 = [1]\n",
    "\n",
    "# converting list to iterator\n",
    "list_iter = iter(list1)\n",
    "\n",
    "print(next(list_iter))\n",
    "print(next(list_iter, \"No more element\"))"
   ]
  },
  {
   "cell_type": "markdown",
   "id": "02854f18",
   "metadata": {},
   "source": [
    "## 40. oct()\n",
    "\n",
    "The oct() function converts an integer into an octal string.\n",
    "\n",
    "Octal strings in Python are prefixed with 0o.\n",
    "\n",
    "syntax : oct(int)\n",
    "\n",
    "https://www.geeksforgeeks.org/python-oct-function/"
   ]
  },
  {
   "cell_type": "code",
   "execution_count": null,
   "id": "1fd64838",
   "metadata": {},
   "outputs": [],
   "source": [
    "x = oct(12)"
   ]
  },
  {
   "cell_type": "markdown",
   "id": "1a29c9da",
   "metadata": {},
   "source": [
    "## 41. ord()\n",
    "\n",
    "The ord() function returns the number representing the unicode code of a specified character.\n",
    "\n",
    "Syntax : ord(character)\n",
    "\n",
    "Python ord() function returns the Unicode code from a given character. This function accepts a string of unit length as an argument and returns the Unicode equivalence of the passed argument. In other words, given a string of length 1, the ord() function returns an integer representing the Unicode code point of the character when an argument is a Unicode object, or the value of the byte when the argument is an 8-bit string."
   ]
  },
  {
   "cell_type": "code",
   "execution_count": 92,
   "id": "90a315d8",
   "metadata": {},
   "outputs": [],
   "source": [
    "x = ord(\"h\")"
   ]
  },
  {
   "cell_type": "markdown",
   "id": "1f44d007",
   "metadata": {},
   "source": [
    "## 42. pow()\n",
    "\n",
    "The pow() function returns the value of x to the power of y (xy).\n",
    "\n",
    "If a third parameter is present, it returns x to the power of y, modulus z.\n",
    "\n",
    "syntax : pow(x, y, z)\n",
    "\n",
    "Parameter\tDescription\n",
    "\n",
    "x\t: A number, the base\n",
    "\n",
    "y\t: A number, the exponent\n",
    "\n",
    "z\t: Optional. A number, the modulus"
   ]
  },
  {
   "cell_type": "code",
   "execution_count": 93,
   "id": "64b52106",
   "metadata": {},
   "outputs": [],
   "source": [
    "x = pow(4, 3, 5)"
   ]
  },
  {
   "cell_type": "code",
   "execution_count": 94,
   "id": "28c75c7d",
   "metadata": {},
   "outputs": [],
   "source": [
    "x = pow(4, 3)"
   ]
  },
  {
   "cell_type": "markdown",
   "id": "1d519d77",
   "metadata": {},
   "source": [
    "## 43. print()\n",
    "\n",
    "The print() function prints the specified message to the screen, or other standard output device.\n",
    "\n",
    "The message can be a string, or any other object, the object will be converted into a string before written to the screen.\n",
    "\n",
    "syntax : print(object(s), sep=separator, end=end, file=file, flush=flush)\n",
    "\n",
    "Parameter\tDescription\n",
    "\n",
    "object(s)\t: Any object, and as many as you like. Will be converted to string before printed\n",
    "\n",
    "sep= 'separator' :\tOptional. Specify how to separate the objects, if there is more than one. Default is ' '\n",
    "\n",
    "end='end' :\tOptional. Specify what to print at the end. Default is '\\n' (line feed)\n",
    "\n",
    "file :\tOptional. An object with a write method. Default is sys.stdout\n",
    "\n",
    "flush :\tOptional. A Boolean, specifying if the output is flushed (True) or buffered (False). Default is False"
   ]
  },
  {
   "cell_type": "code",
   "execution_count": 95,
   "id": "c31f0bcb",
   "metadata": {},
   "outputs": [
    {
     "name": "stdout",
     "output_type": "stream",
     "text": [
      "Hello---how are you?\n"
     ]
    }
   ],
   "source": [
    "print(\"Hello\", \"how are you?\", sep=\"---\")"
   ]
  },
  {
   "cell_type": "markdown",
   "id": "ca128ae4",
   "metadata": {},
   "source": [
    "## 44. range()\n",
    "\n",
    "The range() function returns a sequence of numbers, starting from 0 by default, and increments by 1 (by default), and stops before a specified number.\n",
    "\n",
    "Syntax : range(start, stop, step)"
   ]
  },
  {
   "cell_type": "code",
   "execution_count": null,
   "id": "dbc9c383",
   "metadata": {},
   "outputs": [],
   "source": [
    "x = range(3, 20, 2)\n",
    "for n in x:\n",
    "  print(n)"
   ]
  },
  {
   "cell_type": "code",
   "execution_count": null,
   "id": "1d6fa804",
   "metadata": {},
   "outputs": [],
   "source": [
    "x = range(3, 6)\n",
    "for n in x:\n",
    "  print(n)"
   ]
  },
  {
   "cell_type": "code",
   "execution_count": 96,
   "id": "f5687b46",
   "metadata": {},
   "outputs": [
    {
     "name": "stdout",
     "output_type": "stream",
     "text": [
      "0\n",
      "1\n",
      "2\n",
      "3\n",
      "4\n",
      "5\n"
     ]
    }
   ],
   "source": [
    "x = range(6)\n",
    "for n in x:\n",
    "  print(n)"
   ]
  },
  {
   "cell_type": "markdown",
   "id": "f302cd33",
   "metadata": {},
   "source": [
    "## 45. reversed()\n",
    "\n",
    "The reversed() function returns a reversed iterator object.\n",
    "\n",
    "Syntax : reversed(sequence)"
   ]
  },
  {
   "cell_type": "code",
   "execution_count": 97,
   "id": "ef77fde3",
   "metadata": {},
   "outputs": [
    {
     "name": "stdout",
     "output_type": "stream",
     "text": [
      "d\n",
      "c\n",
      "b\n",
      "a\n"
     ]
    }
   ],
   "source": [
    "alph = [\"a\", \"b\", \"c\", \"d\"]\n",
    "ralph = reversed(alph)\n",
    "for x in ralph:\n",
    "  print(x)"
   ]
  },
  {
   "cell_type": "markdown",
   "id": "cea79a40",
   "metadata": {},
   "source": [
    "## 46. round()\n",
    "\n",
    "The round() function returns a floating point number that is a rounded version of the specified number, with the specified number of decimals.\n",
    "\n",
    "The default number of decimals is 0, meaning that the function will return the nearest integer.\n",
    "\n",
    "Syntax : round(number, digits)\n",
    "\n",
    "Parameter\tDescription\n",
    "\n",
    "number\t: Required. The number to be rounded\n",
    "\n",
    "digits\t: Optional. The number of decimals to use when rounding the number. Default is 0\n"
   ]
  },
  {
   "cell_type": "code",
   "execution_count": null,
   "id": "7a38d5d3",
   "metadata": {},
   "outputs": [],
   "source": [
    "x = round(5.76543, 2)\n",
    "print(x)"
   ]
  },
  {
   "cell_type": "code",
   "execution_count": null,
   "id": "06cfe83d",
   "metadata": {},
   "outputs": [],
   "source": [
    "x = round(5.76543)\n",
    "print(x)"
   ]
  },
  {
   "cell_type": "markdown",
   "id": "03b01db9",
   "metadata": {},
   "source": [
    "## 47. set()\n",
    "\n",
    "The set() function creates a set object.\n",
    "\n",
    "The items in a set list are unordered, so it will appear in random order.\n",
    "\n",
    "Syntax : set(iterable)"
   ]
  },
  {
   "cell_type": "code",
   "execution_count": 100,
   "id": "6f2d87a7",
   "metadata": {},
   "outputs": [
    {
     "name": "stdout",
     "output_type": "stream",
     "text": [
      "{218, 199, 327}\n"
     ]
    }
   ],
   "source": [
    "print(set((218, 327, 199, 199)))"
   ]
  },
  {
   "cell_type": "markdown",
   "id": "f9c7a7fd",
   "metadata": {},
   "source": [
    "## 48. setattr()\n",
    "\n",
    "The setattr() function sets the value of the specified attribute of the specified object.\n",
    "\n",
    "Syntax : setattr(object, attribute, value)\n",
    "\n",
    "Parameter\tDescription\n",
    "\n",
    "object\tRequired. An object.\n",
    "\n",
    "attribute\tRequired. The name of the attribute you want to set\n",
    "\n",
    "value\tRequired. The value you want to give the specified attribute\n",
    "\n",
    "Syntax : setattr(obj, var, val)\n",
    "\n",
    "Parameters : \n",
    "\n",
    "obj : Object whose which attribute is to be assigned.\n",
    "\n",
    "var : object attribute which has to be assigned.\n",
    "\n",
    "val : value with which variable is to be assigned."
   ]
  },
  {
   "cell_type": "code",
   "execution_count": 98,
   "id": "efadcf39",
   "metadata": {},
   "outputs": [],
   "source": [
    "class Person:\n",
    "  name = \"John\"\n",
    "  age = 36\n",
    "  country = \"Norway\"\n",
    "\n",
    "setattr(Person, 'age', 40)"
   ]
  },
  {
   "cell_type": "markdown",
   "id": "4f5a6715",
   "metadata": {},
   "source": [
    "## 49. sorted()\n",
    "\n",
    "The sorted() function returns a sorted list of the specified iterable object.\n",
    "\n",
    "You can specify ascending or descending order. Strings are sorted alphabetically, and numbers are sorted numerically.\n",
    "\n",
    "Note: You cannot sort a list that contains BOTH string values AND numeric values.\n",
    "\n",
    "Syntax : sorted(iterable, key=key, reverse=reverse)\n",
    "\n",
    "Parameter\tDescription\n",
    "\n",
    "iterable\tRequired. The sequence to sort, list, dictionary, tuple etc.\n",
    "\n",
    "key\tOptional. A Function to execute to decide the order. Default is None\n",
    "\n",
    "reverse\tOptional. A Boolean. False will sort ascending, True will sort descending. Default is False"
   ]
  },
  {
   "cell_type": "code",
   "execution_count": 101,
   "id": "649c6fef",
   "metadata": {},
   "outputs": [
    {
     "name": "stdout",
     "output_type": "stream",
     "text": [
      "['a', 'b', 'c', 'd', 'e', 'f', 'g', 'h']\n"
     ]
    }
   ],
   "source": [
    "a = (\"b\", \"g\", \"a\", \"d\", \"f\", \"c\", \"h\", \"e\")\n",
    "x = sorted(a)\n",
    "print(x)"
   ]
  },
  {
   "cell_type": "markdown",
   "id": "9c32e520",
   "metadata": {},
   "source": [
    "## 50. str()\n",
    "\n",
    "The str() function converts the specified value into a string.\n",
    "\n",
    "Syntax : str(object, encoding=encoding, errors=errors)\n",
    "\n",
    "Parameter\tDescription\n",
    "\n",
    "object\t: Any object. Specifies the object to convert into a string\n",
    "\n",
    "encoding :\tThe encoding of the object. Default is UTF-8\n",
    "\n",
    "errors\t : Specifies what to do if the decoding fails"
   ]
  },
  {
   "cell_type": "code",
   "execution_count": 102,
   "id": "553b689d",
   "metadata": {},
   "outputs": [],
   "source": [
    "x = str(3.5)"
   ]
  },
  {
   "cell_type": "markdown",
   "id": "43b731a1",
   "metadata": {},
   "source": [
    "## 51. sum()\n",
    "\n",
    "The sum() function returns a number, the sum of all items in an iterable.\n",
    "\n",
    "Syntax : sum(iterable, start)\n",
    "\n",
    "Parameter\tDescription\n",
    "\n",
    "iterable\tRequired. The sequence to sum\n",
    "\n",
    "start\tOptional. A value that is added to the return value"
   ]
  },
  {
   "cell_type": "code",
   "execution_count": 103,
   "id": "7ccdc84d",
   "metadata": {},
   "outputs": [],
   "source": [
    "a = (1, 2, 3, 4, 5)\n",
    "x = sum(a)"
   ]
  },
  {
   "cell_type": "markdown",
   "id": "71ce6fe4",
   "metadata": {},
   "source": [
    "## 52. super()\n",
    "\n",
    "The super() function is used to give access to methods and properties of a parent or sibling class.\n",
    "\n",
    "The super() function returns an object that represents the parent class.\n",
    "\n",
    "Syntax : super()"
   ]
  },
  {
   "cell_type": "code",
   "execution_count": null,
   "id": "bf0757df",
   "metadata": {},
   "outputs": [],
   "source": [
    "class Parent:\n",
    "  def __init__(self, txt):\n",
    "    self.message = txt\n",
    "\n",
    "  def printmessage(self):\n",
    "    print(self.message)\n",
    "\n",
    "class Child(Parent):\n",
    "  def __init__(self, txt):\n",
    "    super().__init__(txt)\n",
    "\n",
    "x = Child(\"Hello, and welcome!\")\n",
    "\n",
    "x.printmessage()"
   ]
  },
  {
   "cell_type": "markdown",
   "id": "e5ec2940",
   "metadata": {},
   "source": [
    "## 53. tuple()\n",
    "\n",
    "The tuple() function creates a tuple object.\n",
    "\n",
    "Note: You cannot change or remove items in a tuple.\n",
    "\n",
    "syntax : tuple(iterable)"
   ]
  },
  {
   "cell_type": "code",
   "execution_count": 105,
   "id": "f1050aae",
   "metadata": {},
   "outputs": [],
   "source": [
    "x = tuple(('apple', 'banana', 'cherry'))"
   ]
  },
  {
   "cell_type": "markdown",
   "id": "3a0c64c5",
   "metadata": {},
   "source": [
    "## 54. type()\n",
    "\n",
    "The type() function returns the type of the specified object\n",
    "\n",
    "Syntax : type(object, bases, dict)\n",
    "\n",
    "Parameter\tDescription\n",
    "\n",
    "object\tRequired. If only one parameter is specified, the type() function returns the type of this object\n",
    "\n",
    "bases\tOptional. Specifies the base classes\n",
    "\n",
    "dict\tOptional. Specifies the namespace with the definition for the class"
   ]
  },
  {
   "cell_type": "code",
   "execution_count": 106,
   "id": "2707e662",
   "metadata": {},
   "outputs": [],
   "source": [
    "a = ('apple', 'banana', 'cherry')\n",
    "b = \"Hello World\"\n",
    "c = 33\n",
    "\n",
    "x = type(a)\n",
    "y = type(b)\n",
    "z = type(c)"
   ]
  },
  {
   "cell_type": "markdown",
   "id": "b4e86592",
   "metadata": {},
   "source": [
    "## 55. vars()\n",
    "\n",
    "The vars() function returns the __dict__ attribute of an object.\n",
    "\n",
    "The __dict__ attribute is a dictionary containing the object's changeable attributes.\n",
    "\n",
    "Note: calling the vars() function without parameters will return a dictionary containing the local symbol table.\n",
    "\n",
    "Syntax : vars(object)"
   ]
  },
  {
   "cell_type": "code",
   "execution_count": 107,
   "id": "11ff33f2",
   "metadata": {},
   "outputs": [],
   "source": [
    "class Person:\n",
    "  name = \"John\"\n",
    "  age = 36\n",
    "  country = \"norway\"\n",
    "\n",
    "x = vars(Person)"
   ]
  },
  {
   "cell_type": "code",
   "execution_count": null,
   "id": "cad6e0e1",
   "metadata": {},
   "outputs": [],
   "source": [
    "# Python program to illustrate\n",
    "# working of vars() method in Python\n",
    "\n",
    "class Geeks:\n",
    "def __init__(self, name1 = \"Arun\", num2 = 46, name3 = \"Rishab\"):\n",
    "\tself.name1 = name1\n",
    "\tself.num2 = num2\n",
    "\tself.name3 = name3\n",
    "\n",
    "GeeksforGeeks = Geeks()\n",
    "print(vars(GeeksforGeeks))"
   ]
  },
  {
   "cell_type": "markdown",
   "id": "e8d93b3b",
   "metadata": {},
   "source": [
    "## 56. zip()\n",
    "\n",
    "The zip() function returns a zip object, which is an iterator of tuples where the first item in each passed iterator is paired together, and then the second item in each passed iterator are paired together etc.\n",
    "\n",
    "If the passed iterators have different lengths, the iterator with the least items decides the length of the new iterator.\n",
    "\n",
    "Syntax : zip(iterator1, iterator2, iterator3 ...)\n",
    "\n",
    "Parameter\tDescription\n",
    "\n",
    "iterator1, iterator2, iterator3 ...\tIterator objects that will be joined together\n",
    "\n",
    "https://www.geeksforgeeks.org/zip-in-python/"
   ]
  },
  {
   "cell_type": "code",
   "execution_count": 108,
   "id": "5c1decb9",
   "metadata": {},
   "outputs": [],
   "source": [
    "a = (\"John\", \"Charles\", \"Mike\")\n",
    "b = (\"Jenny\", \"Christy\", \"Monica\")\n",
    "\n",
    "x = zip(a, b)"
   ]
  },
  {
   "cell_type": "markdown",
   "id": "b49475fc",
   "metadata": {},
   "source": [
    "# f-strings\n",
    "\n",
    "Note : F-strings are faster than the two most commonly used string formatting mechanisms, which are % formatting and str.format(). \n",
    "\n",
    "PEP 498 introduced a new string formatting mechanism known as Literal String Interpolation or more commonly as F-strings (because of the leading f character preceding the string literal). The idea behind f-strings is to make string interpolation simpler. \n",
    "\n",
    "To create an f-string, prefix the string with the letter “ f ”. The string itself can be formatted in much the same way that you would with str.format(). F-strings provide a concise and convenient way to embed python expressions inside string literals for formatting. \n",
    "\n",
    "https://www.geeksforgeeks.org/formatted-string-literals-f-strings-python/"
   ]
  },
  {
   "cell_type": "code",
   "execution_count": null,
   "id": "a2a6881a",
   "metadata": {},
   "outputs": [],
   "source": [
    "# Python3 program introducing f-string\n",
    "val = 'Geeks'\n",
    "print(f\"{val}for{val} is a portal for {val}.\")\n",
    "\n",
    "\n",
    "name = 'Tushar'\n",
    "age = 23\n",
    "print(f\"Hello, My name is {name} and I'm {age} years old.\")"
   ]
  },
  {
   "cell_type": "code",
   "execution_count": null,
   "id": "fccea13e",
   "metadata": {},
   "outputs": [],
   "source": [
    "# Prints today's date with help\n",
    "# of datetime library\n",
    "import datetime\n",
    "\n",
    "today = datetime.datetime.today()\n",
    "print(f\"{today:%B %d, %Y}\")"
   ]
  }
 ],
 "metadata": {
  "kernelspec": {
   "display_name": "Python 3 (ipykernel)",
   "language": "python",
   "name": "python3"
  },
  "language_info": {
   "codemirror_mode": {
    "name": "ipython",
    "version": 3
   },
   "file_extension": ".py",
   "mimetype": "text/x-python",
   "name": "python",
   "nbconvert_exporter": "python",
   "pygments_lexer": "ipython3",
   "version": "3.9.13"
  }
 },
 "nbformat": 4,
 "nbformat_minor": 5
}
